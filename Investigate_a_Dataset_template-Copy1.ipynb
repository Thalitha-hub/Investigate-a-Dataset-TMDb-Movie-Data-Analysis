{
 "cells": [
  {
   "cell_type": "markdown",
   "metadata": {
    "id": "eVOaR8kMvfL2"
   },
   "source": [
    "> **Tip**: Welcome to the Investigate a Dataset project! You will find tips in quoted sections like this to help organize your approach to your investigation. Once you complete this project, remove these **Tip** sections from your report before submission. First things first, you might want to double-click this Markdown cell and change the title so that it reflects your dataset and investigation.\n",
    "\n",
    "# Project: Investigate a Dataset - TMDb movie data\n",
    "\n",
    "\n",
    "## Table of Contents\n",
    "<ul>\n",
    "<li><a href=\"#intro\">Introduction</a></li>\n",
    "<li><a href=\"#wrangling\">Data Wrangling</a></li>\n",
    "<li><a href=\"#eda\">Exploratory Data Analysis</a></li>\n",
    "<li><a href=\"#conclusions\">Conclusions</a></li>\n",
    "</ul>"
   ]
  },
  {
   "cell_type": "markdown",
   "metadata": {
    "id": "tjxXX3yRvfL8"
   },
   "source": [
    "<a id='intro'></a>\n",
    "## Introduction\n",
    "\n",
    "### Dataset Description \n",
    "\n",
    "> **Tip**: In this section of the report, provide a brief introduction to the dataset you've selected/downloaded for analysis. Read through the description available on the homepage-links present [here](https://docs.google.com/document/d/e/2PACX-1vTlVmknRRnfy_4eTrjw5hYGaiQim5ctr9naaRd4V9du2B5bxpd8FEH3KtDgp8qVekw7Cj1GLk1IXdZi/pub?embedded=True). List all column names in each table, and their significance. In case of multiple tables, describe the relationship between tables. \n",
    "\n",
    "   \n",
    "\n",
    "### Question(s) for Analysis\n",
    ">**Tip**: Clearly state one or more questions that you plan on exploring over the course of the report. You will address these questions in the **data analysis** and **conclusion** sections. Try to build your report around the analysis of at least one dependent variable and three independent variables. If you're not sure what questions to ask, then make sure you familiarize yourself with the dataset, its variables and the dataset context for ideas of what to explore.\n",
    "\n",
    "\n",
    "\n",
    "> **Tip**: Once you start coding, use NumPy arrays, Pandas Series, and DataFrames where appropriate rather than Python lists and dictionaries. Also, **use good coding practices**, such as, define and use functions to avoid repetitive code. Use appropriate comments within the code cells, explanation in the mark-down cells, and meaningful variable names. "
   ]
  },
  {
   "cell_type": "code",
   "execution_count": 1,
   "metadata": {
    "executionInfo": {
     "elapsed": 11,
     "status": "ok",
     "timestamp": 1660638165875,
     "user": {
      "displayName": "Camsol Datateam",
      "userId": "00924252174294246518"
     },
     "user_tz": -60
    },
    "id": "EaqCW4AHvfMB"
   },
   "outputs": [],
   "source": [
    "# Use this cell to set up import statements for all of the packages that you\n",
    "#   plan to use.\n",
    "\n",
    "# Remember to include a 'magic word' so that your visualizations are plotted\n",
    "#   inline with the notebook. See this page for more:\n",
    "#   http://ipython.readthedocs.io/en/stable/interactive/magics.html\n",
    "import numpy as np\n",
    "import pandas as pd\n",
    "# import matplotlib as plt\n",
    "import matplotlib.pyplot as plt\n",
    "import seaborn as sns \n",
    "%matplotlib inline\n",
    "\n",
    "\n",
    "\n"
   ]
  },
  {
   "cell_type": "code",
   "execution_count": 3,
   "metadata": {
    "id": "3ajbVRzHvfMF"
   },
   "outputs": [
    {
     "name": "stderr",
     "output_type": "stream",
     "text": [
      "WARNING: Retrying (Retry(total=4, connect=None, read=None, redirect=None, status=None)) after connection broken by 'NewConnectionError('<pip._vendor.urllib3.connection.HTTPSConnection object at 0x0000026D4AC4CE80>: Failed to establish a new connection: [Errno 11001] getaddrinfo failed')': /simple/pandas/\n",
      "WARNING: Retrying (Retry(total=3, connect=None, read=None, redirect=None, status=None)) after connection broken by 'NewConnectionError('<pip._vendor.urllib3.connection.HTTPSConnection object at 0x0000026D4AC61100>: Failed to establish a new connection: [Errno 11001] getaddrinfo failed')': /simple/pandas/\n",
      "WARNING: Retrying (Retry(total=2, connect=None, read=None, redirect=None, status=None)) after connection broken by 'NewConnectionError('<pip._vendor.urllib3.connection.HTTPSConnection object at 0x0000026D4AC612E0>: Failed to establish a new connection: [Errno 11001] getaddrinfo failed')': /simple/pandas/\n",
      "WARNING: Retrying (Retry(total=1, connect=None, read=None, redirect=None, status=None)) after connection broken by 'NewConnectionError('<pip._vendor.urllib3.connection.HTTPSConnection object at 0x0000026D4AC614C0>: Failed to establish a new connection: [Errno 11001] getaddrinfo failed')': /simple/pandas/\n",
      "WARNING: Retrying (Retry(total=0, connect=None, read=None, redirect=None, status=None)) after connection broken by 'NewConnectionError('<pip._vendor.urllib3.connection.HTTPSConnection object at 0x0000026D4AC616A0>: Failed to establish a new connection: [Errno 11001] getaddrinfo failed')': /simple/pandas/\n",
      "ERROR: Could not find a version that satisfies the requirement pandas==0.25.0\n",
      "ERROR: No matching distribution found for pandas==0.25.0\n"
     ]
    }
   ],
   "source": [
    "# Upgrade pandas to use dataframe.explode() function. \n",
    "!pip install --upgrade pandas==0.25.0"
   ]
  },
  {
   "cell_type": "markdown",
   "metadata": {
    "id": "TiaMGl0QvfMH"
   },
   "source": [
    "<a id='wrangling'></a>\n",
    "## Data Wrangling\n",
    "\n",
    "> **Tip**: In this section of the report, you will load in the data, check for cleanliness, and then trim and clean your dataset for analysis. Make sure that you **document your data cleaning steps in mark-down cells precisely and justify your cleaning decisions.**\n",
    "\n",
    "\n",
    "### General Properties\n",
    "> **Tip**: You should _not_ perform too many operations in each cell. Create cells freely to explore your data. One option that you can take with this project is to do a lot of explorations in an initial notebook. These don't have to be organized, but make sure you use enough comments to understand the purpose of each code cell. Then, after you're done with your analysis, create a duplicate notebook where you will trim the excess and organize your steps so that you have a flowing, cohesive report."
   ]
  },
  {
   "cell_type": "code",
   "execution_count": 2,
   "metadata": {
    "id": "rgDRYHOkvfMJ",
    "scrolled": true
   },
   "outputs": [],
   "source": [
    "# Load your data and print out a few lines. Perform operations to inspect data\n",
    "#   types and look for instances of missing or possibly errant data.\n",
    "\n",
    "df= pd.read_csv(\"tmdb-movies.csv\")\n",
    "\n"
   ]
  },
  {
   "cell_type": "code",
   "execution_count": 3,
   "metadata": {},
   "outputs": [
    {
     "data": {
      "text/plain": [
       "(10866, 21)"
      ]
     },
     "execution_count": 3,
     "metadata": {},
     "output_type": "execute_result"
    }
   ],
   "source": [
    "\n",
    "## to check the number of colummn and rows\n",
    "df.shape"
   ]
  },
  {
   "cell_type": "code",
   "execution_count": 4,
   "metadata": {
    "scrolled": true
   },
   "outputs": [
    {
     "name": "stdout",
     "output_type": "stream",
     "text": [
      "<class 'pandas.core.frame.DataFrame'>\n",
      "RangeIndex: 10866 entries, 0 to 10865\n",
      "Data columns (total 21 columns):\n",
      " #   Column                Non-Null Count  Dtype  \n",
      "---  ------                --------------  -----  \n",
      " 0   id                    10866 non-null  int64  \n",
      " 1   imdb_id               10856 non-null  object \n",
      " 2   popularity            10866 non-null  float64\n",
      " 3   budget                10866 non-null  int64  \n",
      " 4   revenue               10866 non-null  int64  \n",
      " 5   original_title        10866 non-null  object \n",
      " 6   cast                  10790 non-null  object \n",
      " 7   homepage              2936 non-null   object \n",
      " 8   director              10822 non-null  object \n",
      " 9   tagline               8042 non-null   object \n",
      " 10  keywords              9373 non-null   object \n",
      " 11  overview              10862 non-null  object \n",
      " 12  runtime               10866 non-null  int64  \n",
      " 13  genres                10843 non-null  object \n",
      " 14  production_companies  9836 non-null   object \n",
      " 15  release_date          10866 non-null  object \n",
      " 16  vote_count            10866 non-null  int64  \n",
      " 17  vote_average          10866 non-null  float64\n",
      " 18  release_year          10866 non-null  int64  \n",
      " 19  budget_adj            10866 non-null  float64\n",
      " 20  revenue_adj           10866 non-null  float64\n",
      "dtypes: float64(4), int64(6), object(11)\n",
      "memory usage: 1.7+ MB\n"
     ]
    }
   ],
   "source": [
    "## to check the datatype of each column\n",
    "df.info()"
   ]
  },
  {
   "cell_type": "code",
   "execution_count": 5,
   "metadata": {},
   "outputs": [
    {
     "data": {
      "text/html": [
       "<div>\n",
       "<style scoped>\n",
       "    .dataframe tbody tr th:only-of-type {\n",
       "        vertical-align: middle;\n",
       "    }\n",
       "\n",
       "    .dataframe tbody tr th {\n",
       "        vertical-align: top;\n",
       "    }\n",
       "\n",
       "    .dataframe thead th {\n",
       "        text-align: right;\n",
       "    }\n",
       "</style>\n",
       "<table border=\"1\" class=\"dataframe\">\n",
       "  <thead>\n",
       "    <tr style=\"text-align: right;\">\n",
       "      <th></th>\n",
       "      <th>id</th>\n",
       "      <th>imdb_id</th>\n",
       "      <th>popularity</th>\n",
       "      <th>budget</th>\n",
       "      <th>revenue</th>\n",
       "      <th>original_title</th>\n",
       "      <th>cast</th>\n",
       "      <th>homepage</th>\n",
       "      <th>director</th>\n",
       "      <th>tagline</th>\n",
       "      <th>...</th>\n",
       "      <th>overview</th>\n",
       "      <th>runtime</th>\n",
       "      <th>genres</th>\n",
       "      <th>production_companies</th>\n",
       "      <th>release_date</th>\n",
       "      <th>vote_count</th>\n",
       "      <th>vote_average</th>\n",
       "      <th>release_year</th>\n",
       "      <th>budget_adj</th>\n",
       "      <th>revenue_adj</th>\n",
       "    </tr>\n",
       "  </thead>\n",
       "  <tbody>\n",
       "    <tr>\n",
       "      <th>0</th>\n",
       "      <td>135397</td>\n",
       "      <td>tt0369610</td>\n",
       "      <td>32.985763</td>\n",
       "      <td>150000000</td>\n",
       "      <td>1513528810</td>\n",
       "      <td>Jurassic World</td>\n",
       "      <td>Chris Pratt|Bryce Dallas Howard|Irrfan Khan|Vi...</td>\n",
       "      <td>http://www.jurassicworld.com/</td>\n",
       "      <td>Colin Trevorrow</td>\n",
       "      <td>The park is open.</td>\n",
       "      <td>...</td>\n",
       "      <td>Twenty-two years after the events of Jurassic ...</td>\n",
       "      <td>124</td>\n",
       "      <td>Action|Adventure|Science Fiction|Thriller</td>\n",
       "      <td>Universal Studios|Amblin Entertainment|Legenda...</td>\n",
       "      <td>6/9/15</td>\n",
       "      <td>5562</td>\n",
       "      <td>6.5</td>\n",
       "      <td>2015</td>\n",
       "      <td>1.379999e+08</td>\n",
       "      <td>1.392446e+09</td>\n",
       "    </tr>\n",
       "    <tr>\n",
       "      <th>1</th>\n",
       "      <td>76341</td>\n",
       "      <td>tt1392190</td>\n",
       "      <td>28.419936</td>\n",
       "      <td>150000000</td>\n",
       "      <td>378436354</td>\n",
       "      <td>Mad Max: Fury Road</td>\n",
       "      <td>Tom Hardy|Charlize Theron|Hugh Keays-Byrne|Nic...</td>\n",
       "      <td>http://www.madmaxmovie.com/</td>\n",
       "      <td>George Miller</td>\n",
       "      <td>What a Lovely Day.</td>\n",
       "      <td>...</td>\n",
       "      <td>An apocalyptic story set in the furthest reach...</td>\n",
       "      <td>120</td>\n",
       "      <td>Action|Adventure|Science Fiction|Thriller</td>\n",
       "      <td>Village Roadshow Pictures|Kennedy Miller Produ...</td>\n",
       "      <td>5/13/15</td>\n",
       "      <td>6185</td>\n",
       "      <td>7.1</td>\n",
       "      <td>2015</td>\n",
       "      <td>1.379999e+08</td>\n",
       "      <td>3.481613e+08</td>\n",
       "    </tr>\n",
       "  </tbody>\n",
       "</table>\n",
       "<p>2 rows × 21 columns</p>\n",
       "</div>"
      ],
      "text/plain": [
       "       id    imdb_id  popularity     budget     revenue      original_title  \\\n",
       "0  135397  tt0369610   32.985763  150000000  1513528810      Jurassic World   \n",
       "1   76341  tt1392190   28.419936  150000000   378436354  Mad Max: Fury Road   \n",
       "\n",
       "                                                cast  \\\n",
       "0  Chris Pratt|Bryce Dallas Howard|Irrfan Khan|Vi...   \n",
       "1  Tom Hardy|Charlize Theron|Hugh Keays-Byrne|Nic...   \n",
       "\n",
       "                        homepage         director             tagline  ...  \\\n",
       "0  http://www.jurassicworld.com/  Colin Trevorrow   The park is open.  ...   \n",
       "1    http://www.madmaxmovie.com/    George Miller  What a Lovely Day.  ...   \n",
       "\n",
       "                                            overview runtime  \\\n",
       "0  Twenty-two years after the events of Jurassic ...     124   \n",
       "1  An apocalyptic story set in the furthest reach...     120   \n",
       "\n",
       "                                      genres  \\\n",
       "0  Action|Adventure|Science Fiction|Thriller   \n",
       "1  Action|Adventure|Science Fiction|Thriller   \n",
       "\n",
       "                                production_companies release_date vote_count  \\\n",
       "0  Universal Studios|Amblin Entertainment|Legenda...       6/9/15       5562   \n",
       "1  Village Roadshow Pictures|Kennedy Miller Produ...      5/13/15       6185   \n",
       "\n",
       "   vote_average  release_year    budget_adj   revenue_adj  \n",
       "0           6.5          2015  1.379999e+08  1.392446e+09  \n",
       "1           7.1          2015  1.379999e+08  3.481613e+08  \n",
       "\n",
       "[2 rows x 21 columns]"
      ]
     },
     "execution_count": 5,
     "metadata": {},
     "output_type": "execute_result"
    }
   ],
   "source": [
    "## look a the five fisrt row\n",
    "df.head(2)"
   ]
  },
  {
   "cell_type": "code",
   "execution_count": 6,
   "metadata": {},
   "outputs": [
    {
     "data": {
      "text/plain": [
       "id                         0\n",
       "imdb_id                   10\n",
       "popularity                 0\n",
       "budget                     0\n",
       "revenue                    0\n",
       "original_title             0\n",
       "cast                      76\n",
       "homepage                7930\n",
       "director                  44\n",
       "tagline                 2824\n",
       "keywords                1493\n",
       "overview                   4\n",
       "runtime                    0\n",
       "genres                    23\n",
       "production_companies    1030\n",
       "release_date               0\n",
       "vote_count                 0\n",
       "vote_average               0\n",
       "release_year               0\n",
       "budget_adj                 0\n",
       "revenue_adj                0\n",
       "dtype: int64"
      ]
     },
     "execution_count": 6,
     "metadata": {},
     "output_type": "execute_result"
    }
   ],
   "source": [
    "## to check if there is  missing values  is return a boolean True for NaN \n",
    "df.isnull().sum()"
   ]
  },
  {
   "cell_type": "code",
   "execution_count": 7,
   "metadata": {
    "scrolled": true
   },
   "outputs": [
    {
     "data": {
      "text/plain": [
       "id                         0\n",
       "imdb_id                   10\n",
       "popularity                 0\n",
       "budget                     0\n",
       "revenue                    0\n",
       "original_title             0\n",
       "cast                      76\n",
       "homepage                7930\n",
       "director                  44\n",
       "tagline                 2824\n",
       "keywords                1493\n",
       "overview                   4\n",
       "runtime                    0\n",
       "genres                    23\n",
       "production_companies    1030\n",
       "release_date               0\n",
       "vote_count                 0\n",
       "vote_average               0\n",
       "release_year               0\n",
       "budget_adj                 0\n",
       "revenue_adj                0\n",
       "dtype: int64"
      ]
     },
     "execution_count": 7,
     "metadata": {},
     "output_type": "execute_result"
    }
   ],
   "source": [
    "## same has isnull\n",
    "df.isna().values.any()\n",
    "df.isna().sum()"
   ]
  },
  {
   "cell_type": "code",
   "execution_count": 8,
   "metadata": {},
   "outputs": [
    {
     "data": {
      "text/plain": [
       "True"
      ]
     },
     "execution_count": 8,
     "metadata": {},
     "output_type": "execute_result"
    }
   ],
   "source": [
    "## look for duplicated\n",
    "df.duplicated().values.any()"
   ]
  },
  {
   "cell_type": "code",
   "execution_count": 9,
   "metadata": {
    "scrolled": true
   },
   "outputs": [
    {
     "data": {
      "text/plain": [
       "1"
      ]
     },
     "execution_count": 9,
     "metadata": {},
     "output_type": "execute_result"
    }
   ],
   "source": [
    "df.duplicated().sum()"
   ]
  },
  {
   "cell_type": "code",
   "execution_count": 10,
   "metadata": {},
   "outputs": [
    {
     "data": {
      "text/plain": [
       "False"
      ]
     },
     "execution_count": 10,
     "metadata": {},
     "output_type": "execute_result"
    }
   ],
   "source": [
    "# ## Remove duplicated\n",
    "df1=df.drop_duplicates()\n",
    "df1.duplicated().values.any()"
   ]
  },
  {
   "cell_type": "code",
   "execution_count": 11,
   "metadata": {},
   "outputs": [],
   "source": [
    "#Drop those NaN value\n",
    "df.dropna(inplace=True)"
   ]
  },
  {
   "cell_type": "code",
   "execution_count": 12,
   "metadata": {
    "scrolled": true
   },
   "outputs": [
    {
     "name": "stdout",
     "output_type": "stream",
     "text": [
      "<class 'pandas.core.frame.DataFrame'>\n",
      "Int64Index: 1992 entries, 0 to 10819\n",
      "Data columns (total 21 columns):\n",
      " #   Column                Non-Null Count  Dtype  \n",
      "---  ------                --------------  -----  \n",
      " 0   id                    1992 non-null   int64  \n",
      " 1   imdb_id               1992 non-null   object \n",
      " 2   popularity            1992 non-null   float64\n",
      " 3   budget                1992 non-null   int64  \n",
      " 4   revenue               1992 non-null   int64  \n",
      " 5   original_title        1992 non-null   object \n",
      " 6   cast                  1992 non-null   object \n",
      " 7   homepage              1992 non-null   object \n",
      " 8   director              1992 non-null   object \n",
      " 9   tagline               1992 non-null   object \n",
      " 10  keywords              1992 non-null   object \n",
      " 11  overview              1992 non-null   object \n",
      " 12  runtime               1992 non-null   int64  \n",
      " 13  genres                1992 non-null   object \n",
      " 14  production_companies  1992 non-null   object \n",
      " 15  release_date          1992 non-null   object \n",
      " 16  vote_count            1992 non-null   int64  \n",
      " 17  vote_average          1992 non-null   float64\n",
      " 18  release_year          1992 non-null   int64  \n",
      " 19  budget_adj            1992 non-null   float64\n",
      " 20  revenue_adj           1992 non-null   float64\n",
      "dtypes: float64(4), int64(6), object(11)\n",
      "memory usage: 342.4+ KB\n"
     ]
    }
   ],
   "source": [
    "# Check info of the data set\n",
    "df.info()"
   ]
  },
  {
   "cell_type": "code",
   "execution_count": 13,
   "metadata": {},
   "outputs": [
    {
     "data": {
      "text/plain": [
       "id                      0\n",
       "imdb_id                 0\n",
       "popularity              0\n",
       "budget                  0\n",
       "revenue                 0\n",
       "original_title          0\n",
       "cast                    0\n",
       "homepage                0\n",
       "director                0\n",
       "tagline                 0\n",
       "keywords                0\n",
       "overview                0\n",
       "runtime                 0\n",
       "genres                  0\n",
       "production_companies    0\n",
       "release_date            0\n",
       "vote_count              0\n",
       "vote_average            0\n",
       "release_year            0\n",
       "budget_adj              0\n",
       "revenue_adj             0\n",
       "dtype: int64"
      ]
     },
     "execution_count": 13,
     "metadata": {},
     "output_type": "execute_result"
    }
   ],
   "source": [
    "# to verify if there is NaN left\n",
    "df.isnull().sum()"
   ]
  },
  {
   "cell_type": "markdown",
   "metadata": {
    "id": "zgdMso84vfMS"
   },
   "source": [
    "\n",
    "### Data Cleaning\n",
    "> **Tip**: Make sure that you keep your reader informed on the steps that you are taking in your investigation. Follow every code cell, or every set of related code cells, with a markdown cell to describe to the reader what was found in the preceding cell(s). Try to make it so that the reader can then understand what they will be seeing in the following cell(s).\n",
    "\n",
    "Firstly, are a lot of unwanted colums which makes understanding the dataset difficult. I start the cleaning from here\n",
    " "
   ]
  },
  {
   "cell_type": "code",
   "execution_count": 14,
   "metadata": {
    "id": "8jpZgcM_vfMT",
    "scrolled": true
   },
   "outputs": [],
   "source": [
    "# After discussing the structure of the data and any problems that need to be\n",
    "#   cleaned, perform those cleaning steps in the second part of this section.\n"
   ]
  },
  {
   "cell_type": "code",
   "execution_count": 16,
   "metadata": {},
   "outputs": [
    {
     "data": {
      "text/html": [
       "<div>\n",
       "<style scoped>\n",
       "    .dataframe tbody tr th:only-of-type {\n",
       "        vertical-align: middle;\n",
       "    }\n",
       "\n",
       "    .dataframe tbody tr th {\n",
       "        vertical-align: top;\n",
       "    }\n",
       "\n",
       "    .dataframe thead th {\n",
       "        text-align: right;\n",
       "    }\n",
       "</style>\n",
       "<table border=\"1\" class=\"dataframe\">\n",
       "  <thead>\n",
       "    <tr style=\"text-align: right;\">\n",
       "      <th></th>\n",
       "      <th>id</th>\n",
       "      <th>popularity</th>\n",
       "      <th>budget</th>\n",
       "      <th>revenue</th>\n",
       "      <th>runtime</th>\n",
       "      <th>vote_count</th>\n",
       "      <th>vote_average</th>\n",
       "      <th>release_year</th>\n",
       "      <th>budget_adj</th>\n",
       "      <th>revenue_adj</th>\n",
       "    </tr>\n",
       "  </thead>\n",
       "  <tbody>\n",
       "    <tr>\n",
       "      <th>count</th>\n",
       "      <td>1992.000000</td>\n",
       "      <td>1992.000000</td>\n",
       "      <td>1.992000e+03</td>\n",
       "      <td>1.992000e+03</td>\n",
       "      <td>1992.000000</td>\n",
       "      <td>1992.000000</td>\n",
       "      <td>1992.000000</td>\n",
       "      <td>1992.000000</td>\n",
       "      <td>1.992000e+03</td>\n",
       "      <td>1.992000e+03</td>\n",
       "    </tr>\n",
       "    <tr>\n",
       "      <th>mean</th>\n",
       "      <td>71652.152108</td>\n",
       "      <td>1.316763</td>\n",
       "      <td>3.454924e+07</td>\n",
       "      <td>1.152153e+08</td>\n",
       "      <td>106.040161</td>\n",
       "      <td>643.616968</td>\n",
       "      <td>6.178614</td>\n",
       "      <td>2007.796687</td>\n",
       "      <td>3.627376e+07</td>\n",
       "      <td>1.302391e+08</td>\n",
       "    </tr>\n",
       "    <tr>\n",
       "      <th>std</th>\n",
       "      <td>92355.883915</td>\n",
       "      <td>1.873563</td>\n",
       "      <td>5.061878e+07</td>\n",
       "      <td>2.202887e+08</td>\n",
       "      <td>29.234592</td>\n",
       "      <td>1092.355998</td>\n",
       "      <td>0.881955</td>\n",
       "      <td>7.549224</td>\n",
       "      <td>5.129783e+07</td>\n",
       "      <td>2.564338e+08</td>\n",
       "    </tr>\n",
       "    <tr>\n",
       "      <th>min</th>\n",
       "      <td>11.000000</td>\n",
       "      <td>0.000620</td>\n",
       "      <td>0.000000e+00</td>\n",
       "      <td>0.000000e+00</td>\n",
       "      <td>0.000000</td>\n",
       "      <td>10.000000</td>\n",
       "      <td>2.100000</td>\n",
       "      <td>1961.000000</td>\n",
       "      <td>0.000000e+00</td>\n",
       "      <td>0.000000e+00</td>\n",
       "    </tr>\n",
       "    <tr>\n",
       "      <th>25%</th>\n",
       "      <td>9699.000000</td>\n",
       "      <td>0.384079</td>\n",
       "      <td>0.000000e+00</td>\n",
       "      <td>0.000000e+00</td>\n",
       "      <td>92.000000</td>\n",
       "      <td>51.000000</td>\n",
       "      <td>5.600000</td>\n",
       "      <td>2006.000000</td>\n",
       "      <td>0.000000e+00</td>\n",
       "      <td>0.000000e+00</td>\n",
       "    </tr>\n",
       "    <tr>\n",
       "      <th>50%</th>\n",
       "      <td>35112.500000</td>\n",
       "      <td>0.774223</td>\n",
       "      <td>1.500000e+07</td>\n",
       "      <td>2.578782e+07</td>\n",
       "      <td>102.000000</td>\n",
       "      <td>210.000000</td>\n",
       "      <td>6.200000</td>\n",
       "      <td>2010.000000</td>\n",
       "      <td>1.524601e+07</td>\n",
       "      <td>2.806370e+07</td>\n",
       "    </tr>\n",
       "    <tr>\n",
       "      <th>75%</th>\n",
       "      <td>83573.000000</td>\n",
       "      <td>1.538639</td>\n",
       "      <td>4.800000e+07</td>\n",
       "      <td>1.278787e+08</td>\n",
       "      <td>116.000000</td>\n",
       "      <td>688.250000</td>\n",
       "      <td>6.800000</td>\n",
       "      <td>2012.000000</td>\n",
       "      <td>5.064450e+07</td>\n",
       "      <td>1.393645e+08</td>\n",
       "    </tr>\n",
       "    <tr>\n",
       "      <th>max</th>\n",
       "      <td>414419.000000</td>\n",
       "      <td>32.985763</td>\n",
       "      <td>4.250000e+08</td>\n",
       "      <td>2.781506e+09</td>\n",
       "      <td>705.000000</td>\n",
       "      <td>9767.000000</td>\n",
       "      <td>8.300000</td>\n",
       "      <td>2015.000000</td>\n",
       "      <td>4.250000e+08</td>\n",
       "      <td>2.827124e+09</td>\n",
       "    </tr>\n",
       "  </tbody>\n",
       "</table>\n",
       "</div>"
      ],
      "text/plain": [
       "                  id   popularity        budget       revenue      runtime  \\\n",
       "count    1992.000000  1992.000000  1.992000e+03  1.992000e+03  1992.000000   \n",
       "mean    71652.152108     1.316763  3.454924e+07  1.152153e+08   106.040161   \n",
       "std     92355.883915     1.873563  5.061878e+07  2.202887e+08    29.234592   \n",
       "min        11.000000     0.000620  0.000000e+00  0.000000e+00     0.000000   \n",
       "25%      9699.000000     0.384079  0.000000e+00  0.000000e+00    92.000000   \n",
       "50%     35112.500000     0.774223  1.500000e+07  2.578782e+07   102.000000   \n",
       "75%     83573.000000     1.538639  4.800000e+07  1.278787e+08   116.000000   \n",
       "max    414419.000000    32.985763  4.250000e+08  2.781506e+09   705.000000   \n",
       "\n",
       "        vote_count  vote_average  release_year    budget_adj   revenue_adj  \n",
       "count  1992.000000   1992.000000   1992.000000  1.992000e+03  1.992000e+03  \n",
       "mean    643.616968      6.178614   2007.796687  3.627376e+07  1.302391e+08  \n",
       "std    1092.355998      0.881955      7.549224  5.129783e+07  2.564338e+08  \n",
       "min      10.000000      2.100000   1961.000000  0.000000e+00  0.000000e+00  \n",
       "25%      51.000000      5.600000   2006.000000  0.000000e+00  0.000000e+00  \n",
       "50%     210.000000      6.200000   2010.000000  1.524601e+07  2.806370e+07  \n",
       "75%     688.250000      6.800000   2012.000000  5.064450e+07  1.393645e+08  \n",
       "max    9767.000000      8.300000   2015.000000  4.250000e+08  2.827124e+09  "
      ]
     },
     "execution_count": 16,
     "metadata": {},
     "output_type": "execute_result"
    }
   ],
   "source": [
    "# check some statiical numerical value\n",
    "df.describe()"
   ]
  },
  {
   "cell_type": "markdown",
   "metadata": {},
   "source": [
    "We can see that some columns(budget,revenue,runtime,budget_adj,revenue_adj) has zero for min this can be  read has missed value "
   ]
  },
  {
   "cell_type": "code",
   "execution_count": 22,
   "metadata": {
    "scrolled": true
   },
   "outputs": [
    {
     "data": {
      "text/html": [
       "<div>\n",
       "<style scoped>\n",
       "    .dataframe tbody tr th:only-of-type {\n",
       "        vertical-align: middle;\n",
       "    }\n",
       "\n",
       "    .dataframe tbody tr th {\n",
       "        vertical-align: top;\n",
       "    }\n",
       "\n",
       "    .dataframe thead th {\n",
       "        text-align: right;\n",
       "    }\n",
       "</style>\n",
       "<table border=\"1\" class=\"dataframe\">\n",
       "  <thead>\n",
       "    <tr style=\"text-align: right;\">\n",
       "      <th></th>\n",
       "      <th>budget</th>\n",
       "      <th>revenue</th>\n",
       "      <th>runtime</th>\n",
       "      <th>budget_adj</th>\n",
       "      <th>revenue_adj</th>\n",
       "    </tr>\n",
       "  </thead>\n",
       "  <tbody>\n",
       "    <tr>\n",
       "      <th>181</th>\n",
       "      <td>0</td>\n",
       "      <td>0</td>\n",
       "      <td>48</td>\n",
       "      <td>0.000000e+00</td>\n",
       "      <td>0.000000e+00</td>\n",
       "    </tr>\n",
       "    <tr>\n",
       "      <th>6196</th>\n",
       "      <td>113000000</td>\n",
       "      <td>850000000</td>\n",
       "      <td>140</td>\n",
       "      <td>1.261717e+08</td>\n",
       "      <td>9.490788e+08</td>\n",
       "    </tr>\n",
       "    <tr>\n",
       "      <th>449</th>\n",
       "      <td>0</td>\n",
       "      <td>0</td>\n",
       "      <td>110</td>\n",
       "      <td>0.000000e+00</td>\n",
       "      <td>0.000000e+00</td>\n",
       "    </tr>\n",
       "    <tr>\n",
       "      <th>3945</th>\n",
       "      <td>0</td>\n",
       "      <td>0</td>\n",
       "      <td>68</td>\n",
       "      <td>0.000000e+00</td>\n",
       "      <td>0.000000e+00</td>\n",
       "    </tr>\n",
       "    <tr>\n",
       "      <th>6380</th>\n",
       "      <td>1000000</td>\n",
       "      <td>13350369</td>\n",
       "      <td>103</td>\n",
       "      <td>1.116563e+06</td>\n",
       "      <td>1.490653e+07</td>\n",
       "    </tr>\n",
       "    <tr>\n",
       "      <th>6658</th>\n",
       "      <td>8500000</td>\n",
       "      <td>5480996</td>\n",
       "      <td>100</td>\n",
       "      <td>9.194188e+06</td>\n",
       "      <td>5.928624e+06</td>\n",
       "    </tr>\n",
       "    <tr>\n",
       "      <th>1843</th>\n",
       "      <td>3500000</td>\n",
       "      <td>0</td>\n",
       "      <td>101</td>\n",
       "      <td>3.557402e+06</td>\n",
       "      <td>0.000000e+00</td>\n",
       "    </tr>\n",
       "    <tr>\n",
       "      <th>10317</th>\n",
       "      <td>30000000</td>\n",
       "      <td>13273595</td>\n",
       "      <td>99</td>\n",
       "      <td>4.528410e+07</td>\n",
       "      <td>2.003609e+07</td>\n",
       "    </tr>\n",
       "    <tr>\n",
       "      <th>1981</th>\n",
       "      <td>19000000</td>\n",
       "      <td>49830607</td>\n",
       "      <td>101</td>\n",
       "      <td>1.900000e+07</td>\n",
       "      <td>4.983061e+07</td>\n",
       "    </tr>\n",
       "    <tr>\n",
       "      <th>7390</th>\n",
       "      <td>70000000</td>\n",
       "      <td>442824138</td>\n",
       "      <td>115</td>\n",
       "      <td>7.361680e+07</td>\n",
       "      <td>4.657042e+08</td>\n",
       "    </tr>\n",
       "    <tr>\n",
       "      <th>1724</th>\n",
       "      <td>10000000</td>\n",
       "      <td>7022728</td>\n",
       "      <td>96</td>\n",
       "      <td>1.016400e+07</td>\n",
       "      <td>7.137904e+06</td>\n",
       "    </tr>\n",
       "    <tr>\n",
       "      <th>6007</th>\n",
       "      <td>232000</td>\n",
       "      <td>0</td>\n",
       "      <td>86</td>\n",
       "      <td>2.171597e+05</td>\n",
       "      <td>0.000000e+00</td>\n",
       "    </tr>\n",
       "    <tr>\n",
       "      <th>2019</th>\n",
       "      <td>32000000</td>\n",
       "      <td>42045846</td>\n",
       "      <td>102</td>\n",
       "      <td>3.200000e+07</td>\n",
       "      <td>4.204585e+07</td>\n",
       "    </tr>\n",
       "    <tr>\n",
       "      <th>4490</th>\n",
       "      <td>30000000</td>\n",
       "      <td>0</td>\n",
       "      <td>100</td>\n",
       "      <td>2.849233e+07</td>\n",
       "      <td>0.000000e+00</td>\n",
       "    </tr>\n",
       "    <tr>\n",
       "      <th>5522</th>\n",
       "      <td>20000000</td>\n",
       "      <td>8352885</td>\n",
       "      <td>100</td>\n",
       "      <td>1.872067e+07</td>\n",
       "      <td>7.818579e+06</td>\n",
       "    </tr>\n",
       "    <tr>\n",
       "      <th>6309</th>\n",
       "      <td>80000000</td>\n",
       "      <td>5989640</td>\n",
       "      <td>110</td>\n",
       "      <td>8.932506e+07</td>\n",
       "      <td>6.687812e+06</td>\n",
       "    </tr>\n",
       "    <tr>\n",
       "      <th>2362</th>\n",
       "      <td>0</td>\n",
       "      <td>0</td>\n",
       "      <td>107</td>\n",
       "      <td>0.000000e+00</td>\n",
       "      <td>0.000000e+00</td>\n",
       "    </tr>\n",
       "    <tr>\n",
       "      <th>2343</th>\n",
       "      <td>60000000</td>\n",
       "      <td>296221663</td>\n",
       "      <td>97</td>\n",
       "      <td>6.000000e+07</td>\n",
       "      <td>2.962217e+08</td>\n",
       "    </tr>\n",
       "    <tr>\n",
       "      <th>2018</th>\n",
       "      <td>15000000</td>\n",
       "      <td>4882577</td>\n",
       "      <td>104</td>\n",
       "      <td>1.500000e+07</td>\n",
       "      <td>4.882577e+06</td>\n",
       "    </tr>\n",
       "    <tr>\n",
       "      <th>3420</th>\n",
       "      <td>57000000</td>\n",
       "      <td>149217355</td>\n",
       "      <td>95</td>\n",
       "      <td>5.525569e+07</td>\n",
       "      <td>1.446510e+08</td>\n",
       "    </tr>\n",
       "  </tbody>\n",
       "</table>\n",
       "</div>"
      ],
      "text/plain": [
       "          budget    revenue  runtime    budget_adj   revenue_adj\n",
       "181            0          0       48  0.000000e+00  0.000000e+00\n",
       "6196   113000000  850000000      140  1.261717e+08  9.490788e+08\n",
       "449            0          0      110  0.000000e+00  0.000000e+00\n",
       "3945           0          0       68  0.000000e+00  0.000000e+00\n",
       "6380     1000000   13350369      103  1.116563e+06  1.490653e+07\n",
       "6658     8500000    5480996      100  9.194188e+06  5.928624e+06\n",
       "1843     3500000          0      101  3.557402e+06  0.000000e+00\n",
       "10317   30000000   13273595       99  4.528410e+07  2.003609e+07\n",
       "1981    19000000   49830607      101  1.900000e+07  4.983061e+07\n",
       "7390    70000000  442824138      115  7.361680e+07  4.657042e+08\n",
       "1724    10000000    7022728       96  1.016400e+07  7.137904e+06\n",
       "6007      232000          0       86  2.171597e+05  0.000000e+00\n",
       "2019    32000000   42045846      102  3.200000e+07  4.204585e+07\n",
       "4490    30000000          0      100  2.849233e+07  0.000000e+00\n",
       "5522    20000000    8352885      100  1.872067e+07  7.818579e+06\n",
       "6309    80000000    5989640      110  8.932506e+07  6.687812e+06\n",
       "2362           0          0      107  0.000000e+00  0.000000e+00\n",
       "2343    60000000  296221663       97  6.000000e+07  2.962217e+08\n",
       "2018    15000000    4882577      104  1.500000e+07  4.882577e+06\n",
       "3420    57000000  149217355       95  5.525569e+07  1.446510e+08"
      ]
     },
     "execution_count": 22,
     "metadata": {},
     "output_type": "execute_result"
    }
   ],
   "source": [
    "# let check random 20 sample of those colummns\n",
    "df[['budget','revenue','runtime','budget_adj','revenue_adj']].sample(20)"
   ]
  },
  {
   "cell_type": "markdown",
   "metadata": {},
   "source": [
    "We can see the that  they are many zero that are can be see has missed value"
   ]
  },
  {
   "cell_type": "code",
   "execution_count": 24,
   "metadata": {},
   "outputs": [],
   "source": [
    "# let create another data set for those colummn with zero\n",
    "data_zero= df[(df['budget']==0)|(df['revenue']==0)|(df['runtime']==0)|(df['budget_adj']==0)|(df['revenue_adj']==0)]\n"
   ]
  },
  {
   "cell_type": "code",
   "execution_count": 26,
   "metadata": {},
   "outputs": [
    {
     "data": {
      "text/plain": [
       "(705, 21)"
      ]
     },
     "execution_count": 26,
     "metadata": {},
     "output_type": "execute_result"
    }
   ],
   "source": [
    "# let check number of row and column the data set has\n",
    "data_zero.shape"
   ]
  },
  {
   "cell_type": "code",
   "execution_count": 27,
   "metadata": {},
   "outputs": [
    {
     "data": {
      "text/html": [
       "<div>\n",
       "<style scoped>\n",
       "    .dataframe tbody tr th:only-of-type {\n",
       "        vertical-align: middle;\n",
       "    }\n",
       "\n",
       "    .dataframe tbody tr th {\n",
       "        vertical-align: top;\n",
       "    }\n",
       "\n",
       "    .dataframe thead th {\n",
       "        text-align: right;\n",
       "    }\n",
       "</style>\n",
       "<table border=\"1\" class=\"dataframe\">\n",
       "  <thead>\n",
       "    <tr style=\"text-align: right;\">\n",
       "      <th></th>\n",
       "      <th>id</th>\n",
       "      <th>imdb_id</th>\n",
       "      <th>popularity</th>\n",
       "      <th>budget</th>\n",
       "      <th>revenue</th>\n",
       "      <th>original_title</th>\n",
       "      <th>cast</th>\n",
       "      <th>homepage</th>\n",
       "      <th>director</th>\n",
       "      <th>tagline</th>\n",
       "      <th>...</th>\n",
       "      <th>overview</th>\n",
       "      <th>runtime</th>\n",
       "      <th>genres</th>\n",
       "      <th>production_companies</th>\n",
       "      <th>release_date</th>\n",
       "      <th>vote_count</th>\n",
       "      <th>vote_average</th>\n",
       "      <th>release_year</th>\n",
       "      <th>budget_adj</th>\n",
       "      <th>revenue_adj</th>\n",
       "    </tr>\n",
       "  </thead>\n",
       "  <tbody>\n",
       "    <tr>\n",
       "      <th>30</th>\n",
       "      <td>280996</td>\n",
       "      <td>tt3168230</td>\n",
       "      <td>3.927333</td>\n",
       "      <td>0</td>\n",
       "      <td>29355203</td>\n",
       "      <td>Mr. Holmes</td>\n",
       "      <td>Ian McKellen|Milo Parker|Laura Linney|Hattie M...</td>\n",
       "      <td>http://www.mrholmesfilm.com/</td>\n",
       "      <td>Bill Condon</td>\n",
       "      <td>The man behind the myth</td>\n",
       "      <td>...</td>\n",
       "      <td>The story is set in 1947, following a long-ret...</td>\n",
       "      <td>103</td>\n",
       "      <td>Mystery|Drama</td>\n",
       "      <td>BBC Films|See-Saw Films|FilmNation Entertainme...</td>\n",
       "      <td>6/19/15</td>\n",
       "      <td>425</td>\n",
       "      <td>6.4</td>\n",
       "      <td>2015</td>\n",
       "      <td>0.000000e+00</td>\n",
       "      <td>2.700677e+07</td>\n",
       "    </tr>\n",
       "    <tr>\n",
       "      <th>67</th>\n",
       "      <td>334074</td>\n",
       "      <td>tt3247714</td>\n",
       "      <td>2.331636</td>\n",
       "      <td>20000000</td>\n",
       "      <td>0</td>\n",
       "      <td>Survivor</td>\n",
       "      <td>Pierce Brosnan|Milla Jovovich|Dylan McDermott|...</td>\n",
       "      <td>http://survivormovie.com/</td>\n",
       "      <td>James McTeigue</td>\n",
       "      <td>His Next Target is Now Hunting Him</td>\n",
       "      <td>...</td>\n",
       "      <td>A Foreign Service Officer in London tries to p...</td>\n",
       "      <td>96</td>\n",
       "      <td>Crime|Thriller|Action</td>\n",
       "      <td>Nu Image Films|Winkler Films|Millennium Films|...</td>\n",
       "      <td>5/21/15</td>\n",
       "      <td>280</td>\n",
       "      <td>5.4</td>\n",
       "      <td>2015</td>\n",
       "      <td>1.839999e+07</td>\n",
       "      <td>0.000000e+00</td>\n",
       "    </tr>\n",
       "    <tr>\n",
       "      <th>75</th>\n",
       "      <td>308369</td>\n",
       "      <td>tt2582496</td>\n",
       "      <td>2.141506</td>\n",
       "      <td>0</td>\n",
       "      <td>0</td>\n",
       "      <td>Me and Earl and the Dying Girl</td>\n",
       "      <td>Thomas Mann|RJ Cyler|Olivia Cooke|Connie Britt...</td>\n",
       "      <td>http://www.foxsearchlight.com/meandearlandthed...</td>\n",
       "      <td>Alfonso Gomez-Rejon</td>\n",
       "      <td>A Little Friendship Never Killed Anyone.</td>\n",
       "      <td>...</td>\n",
       "      <td>Greg is coasting through senior year of high s...</td>\n",
       "      <td>105</td>\n",
       "      <td>Comedy|Drama</td>\n",
       "      <td>Indian Paintbrush</td>\n",
       "      <td>6/12/15</td>\n",
       "      <td>569</td>\n",
       "      <td>7.7</td>\n",
       "      <td>2015</td>\n",
       "      <td>0.000000e+00</td>\n",
       "      <td>0.000000e+00</td>\n",
       "    </tr>\n",
       "    <tr>\n",
       "      <th>88</th>\n",
       "      <td>301875</td>\n",
       "      <td>tt3289728</td>\n",
       "      <td>1.959765</td>\n",
       "      <td>0</td>\n",
       "      <td>2000000</td>\n",
       "      <td>Equals</td>\n",
       "      <td>Kristen Stewart|Nicholas Hoult|Guy Pearce|Jack...</td>\n",
       "      <td>http://equals-the-movie.com/</td>\n",
       "      <td>Drake Doremus</td>\n",
       "      <td>Find your equal.</td>\n",
       "      <td>...</td>\n",
       "      <td>A futuristic love story set in a world where e...</td>\n",
       "      <td>101</td>\n",
       "      <td>Drama|Romance|Science Fiction</td>\n",
       "      <td>Scott Free Productions|Infinite Frameworks Stu...</td>\n",
       "      <td>9/4/15</td>\n",
       "      <td>135</td>\n",
       "      <td>5.6</td>\n",
       "      <td>2015</td>\n",
       "      <td>0.000000e+00</td>\n",
       "      <td>1.839999e+06</td>\n",
       "    </tr>\n",
       "    <tr>\n",
       "      <th>95</th>\n",
       "      <td>258509</td>\n",
       "      <td>tt2974918</td>\n",
       "      <td>1.841779</td>\n",
       "      <td>0</td>\n",
       "      <td>233755553</td>\n",
       "      <td>Alvin and the Chipmunks: The Road Chip</td>\n",
       "      <td>Jason Lee|Justin Long|Bella Thorne|Matthew Gra...</td>\n",
       "      <td>http://www.foxmovies.com/movies/alvin-and-the-...</td>\n",
       "      <td>Walt Becker</td>\n",
       "      <td>Fast &amp; furry-ous</td>\n",
       "      <td>...</td>\n",
       "      <td>Through a series of misunderstandings, Alvin, ...</td>\n",
       "      <td>92</td>\n",
       "      <td>Adventure|Animation|Comedy|Family</td>\n",
       "      <td>Regency Enterprises|Fox 2000 Pictures|Sunswept...</td>\n",
       "      <td>12/17/15</td>\n",
       "      <td>278</td>\n",
       "      <td>5.7</td>\n",
       "      <td>2015</td>\n",
       "      <td>0.000000e+00</td>\n",
       "      <td>2.150550e+08</td>\n",
       "    </tr>\n",
       "  </tbody>\n",
       "</table>\n",
       "<p>5 rows × 21 columns</p>\n",
       "</div>"
      ],
      "text/plain": [
       "        id    imdb_id  popularity    budget    revenue  \\\n",
       "30  280996  tt3168230    3.927333         0   29355203   \n",
       "67  334074  tt3247714    2.331636  20000000          0   \n",
       "75  308369  tt2582496    2.141506         0          0   \n",
       "88  301875  tt3289728    1.959765         0    2000000   \n",
       "95  258509  tt2974918    1.841779         0  233755553   \n",
       "\n",
       "                            original_title  \\\n",
       "30                              Mr. Holmes   \n",
       "67                                Survivor   \n",
       "75          Me and Earl and the Dying Girl   \n",
       "88                                  Equals   \n",
       "95  Alvin and the Chipmunks: The Road Chip   \n",
       "\n",
       "                                                 cast  \\\n",
       "30  Ian McKellen|Milo Parker|Laura Linney|Hattie M...   \n",
       "67  Pierce Brosnan|Milla Jovovich|Dylan McDermott|...   \n",
       "75  Thomas Mann|RJ Cyler|Olivia Cooke|Connie Britt...   \n",
       "88  Kristen Stewart|Nicholas Hoult|Guy Pearce|Jack...   \n",
       "95  Jason Lee|Justin Long|Bella Thorne|Matthew Gra...   \n",
       "\n",
       "                                             homepage             director  \\\n",
       "30                       http://www.mrholmesfilm.com/          Bill Condon   \n",
       "67                          http://survivormovie.com/       James McTeigue   \n",
       "75  http://www.foxsearchlight.com/meandearlandthed...  Alfonso Gomez-Rejon   \n",
       "88                       http://equals-the-movie.com/        Drake Doremus   \n",
       "95  http://www.foxmovies.com/movies/alvin-and-the-...          Walt Becker   \n",
       "\n",
       "                                     tagline  ...  \\\n",
       "30                   The man behind the myth  ...   \n",
       "67        His Next Target is Now Hunting Him  ...   \n",
       "75  A Little Friendship Never Killed Anyone.  ...   \n",
       "88                          Find your equal.  ...   \n",
       "95                          Fast & furry-ous  ...   \n",
       "\n",
       "                                             overview runtime  \\\n",
       "30  The story is set in 1947, following a long-ret...     103   \n",
       "67  A Foreign Service Officer in London tries to p...      96   \n",
       "75  Greg is coasting through senior year of high s...     105   \n",
       "88  A futuristic love story set in a world where e...     101   \n",
       "95  Through a series of misunderstandings, Alvin, ...      92   \n",
       "\n",
       "                               genres  \\\n",
       "30                      Mystery|Drama   \n",
       "67              Crime|Thriller|Action   \n",
       "75                       Comedy|Drama   \n",
       "88      Drama|Romance|Science Fiction   \n",
       "95  Adventure|Animation|Comedy|Family   \n",
       "\n",
       "                                 production_companies release_date vote_count  \\\n",
       "30  BBC Films|See-Saw Films|FilmNation Entertainme...      6/19/15        425   \n",
       "67  Nu Image Films|Winkler Films|Millennium Films|...      5/21/15        280   \n",
       "75                                  Indian Paintbrush      6/12/15        569   \n",
       "88  Scott Free Productions|Infinite Frameworks Stu...       9/4/15        135   \n",
       "95  Regency Enterprises|Fox 2000 Pictures|Sunswept...     12/17/15        278   \n",
       "\n",
       "    vote_average  release_year    budget_adj   revenue_adj  \n",
       "30           6.4          2015  0.000000e+00  2.700677e+07  \n",
       "67           5.4          2015  1.839999e+07  0.000000e+00  \n",
       "75           7.7          2015  0.000000e+00  0.000000e+00  \n",
       "88           5.6          2015  0.000000e+00  1.839999e+06  \n",
       "95           5.7          2015  0.000000e+00  2.150550e+08  \n",
       "\n",
       "[5 rows x 21 columns]"
      ]
     },
     "execution_count": 27,
     "metadata": {},
     "output_type": "execute_result"
    }
   ],
   "source": [
    "# see the first 5 row\n",
    "data_zero.head()"
   ]
  },
  {
   "cell_type": "code",
   "execution_count": 28,
   "metadata": {},
   "outputs": [],
   "source": [
    "# let Drop unnecessary column\n",
    "df.drop(\n",
    "    ['homepage','tagline','production_companies','keywords','overview','imdb_id','id','release_date'],\n",
    "    inplace = True, axis = 1)"
   ]
  },
  {
   "cell_type": "code",
   "execution_count": 29,
   "metadata": {
    "scrolled": true
   },
   "outputs": [
    {
     "data": {
      "text/plain": [
       "(1992, 13)"
      ]
     },
     "execution_count": 29,
     "metadata": {},
     "output_type": "execute_result"
    }
   ],
   "source": [
    "# let check the number of row and col\n",
    "df.shape"
   ]
  },
  {
   "cell_type": "code",
   "execution_count": 30,
   "metadata": {
    "scrolled": false
   },
   "outputs": [
    {
     "data": {
      "text/html": [
       "<div>\n",
       "<style scoped>\n",
       "    .dataframe tbody tr th:only-of-type {\n",
       "        vertical-align: middle;\n",
       "    }\n",
       "\n",
       "    .dataframe tbody tr th {\n",
       "        vertical-align: top;\n",
       "    }\n",
       "\n",
       "    .dataframe thead th {\n",
       "        text-align: right;\n",
       "    }\n",
       "</style>\n",
       "<table border=\"1\" class=\"dataframe\">\n",
       "  <thead>\n",
       "    <tr style=\"text-align: right;\">\n",
       "      <th></th>\n",
       "      <th>popularity</th>\n",
       "      <th>budget</th>\n",
       "      <th>revenue</th>\n",
       "      <th>original_title</th>\n",
       "      <th>cast</th>\n",
       "      <th>director</th>\n",
       "      <th>runtime</th>\n",
       "      <th>genres</th>\n",
       "      <th>vote_count</th>\n",
       "      <th>vote_average</th>\n",
       "      <th>release_year</th>\n",
       "      <th>budget_adj</th>\n",
       "      <th>revenue_adj</th>\n",
       "    </tr>\n",
       "  </thead>\n",
       "  <tbody>\n",
       "    <tr>\n",
       "      <th>0</th>\n",
       "      <td>32.985763</td>\n",
       "      <td>150000000</td>\n",
       "      <td>1513528810</td>\n",
       "      <td>Jurassic World</td>\n",
       "      <td>Chris Pratt|Bryce Dallas Howard|Irrfan Khan|Vi...</td>\n",
       "      <td>Colin Trevorrow</td>\n",
       "      <td>124</td>\n",
       "      <td>Action|Adventure|Science Fiction|Thriller</td>\n",
       "      <td>5562</td>\n",
       "      <td>6.5</td>\n",
       "      <td>2015</td>\n",
       "      <td>1.379999e+08</td>\n",
       "      <td>1.392446e+09</td>\n",
       "    </tr>\n",
       "    <tr>\n",
       "      <th>1</th>\n",
       "      <td>28.419936</td>\n",
       "      <td>150000000</td>\n",
       "      <td>378436354</td>\n",
       "      <td>Mad Max: Fury Road</td>\n",
       "      <td>Tom Hardy|Charlize Theron|Hugh Keays-Byrne|Nic...</td>\n",
       "      <td>George Miller</td>\n",
       "      <td>120</td>\n",
       "      <td>Action|Adventure|Science Fiction|Thriller</td>\n",
       "      <td>6185</td>\n",
       "      <td>7.1</td>\n",
       "      <td>2015</td>\n",
       "      <td>1.379999e+08</td>\n",
       "      <td>3.481613e+08</td>\n",
       "    </tr>\n",
       "  </tbody>\n",
       "</table>\n",
       "</div>"
      ],
      "text/plain": [
       "   popularity     budget     revenue      original_title  \\\n",
       "0   32.985763  150000000  1513528810      Jurassic World   \n",
       "1   28.419936  150000000   378436354  Mad Max: Fury Road   \n",
       "\n",
       "                                                cast         director  \\\n",
       "0  Chris Pratt|Bryce Dallas Howard|Irrfan Khan|Vi...  Colin Trevorrow   \n",
       "1  Tom Hardy|Charlize Theron|Hugh Keays-Byrne|Nic...    George Miller   \n",
       "\n",
       "   runtime                                     genres  vote_count  \\\n",
       "0      124  Action|Adventure|Science Fiction|Thriller        5562   \n",
       "1      120  Action|Adventure|Science Fiction|Thriller        6185   \n",
       "\n",
       "   vote_average  release_year    budget_adj   revenue_adj  \n",
       "0           6.5          2015  1.379999e+08  1.392446e+09  \n",
       "1           7.1          2015  1.379999e+08  3.481613e+08  "
      ]
     },
     "execution_count": 30,
     "metadata": {},
     "output_type": "execute_result"
    }
   ],
   "source": [
    "\n",
    "df.head(2)"
   ]
  },
  {
   "cell_type": "code",
   "execution_count": 34,
   "metadata": {},
   "outputs": [],
   "source": [
    "# let Drop now those zero data set\n",
    "df.drop(data_zero.index, inplace=True)"
   ]
  },
  {
   "cell_type": "code",
   "execution_count": 42,
   "metadata": {
    "scrolled": true
   },
   "outputs": [
    {
     "data": {
      "text/html": [
       "<div>\n",
       "<style scoped>\n",
       "    .dataframe tbody tr th:only-of-type {\n",
       "        vertical-align: middle;\n",
       "    }\n",
       "\n",
       "    .dataframe tbody tr th {\n",
       "        vertical-align: top;\n",
       "    }\n",
       "\n",
       "    .dataframe thead th {\n",
       "        text-align: right;\n",
       "    }\n",
       "</style>\n",
       "<table border=\"1\" class=\"dataframe\">\n",
       "  <thead>\n",
       "    <tr style=\"text-align: right;\">\n",
       "      <th></th>\n",
       "      <th>popularity</th>\n",
       "      <th>budget</th>\n",
       "      <th>revenue</th>\n",
       "      <th>runtime</th>\n",
       "      <th>vote_count</th>\n",
       "      <th>vote_average</th>\n",
       "      <th>release_year</th>\n",
       "      <th>budget_adj</th>\n",
       "      <th>revenue_adj</th>\n",
       "    </tr>\n",
       "  </thead>\n",
       "  <tbody>\n",
       "    <tr>\n",
       "      <th>count</th>\n",
       "      <td>1287.000000</td>\n",
       "      <td>1.287000e+03</td>\n",
       "      <td>1.287000e+03</td>\n",
       "      <td>1287.000000</td>\n",
       "      <td>1287.000000</td>\n",
       "      <td>1287.000000</td>\n",
       "      <td>1287.000000</td>\n",
       "      <td>1.287000e+03</td>\n",
       "      <td>1.287000e+03</td>\n",
       "    </tr>\n",
       "    <tr>\n",
       "      <th>mean</th>\n",
       "      <td>1.786022</td>\n",
       "      <td>5.200349e+07</td>\n",
       "      <td>1.762444e+08</td>\n",
       "      <td>110.273504</td>\n",
       "      <td>947.266511</td>\n",
       "      <td>6.279487</td>\n",
       "      <td>2007.017094</td>\n",
       "      <td>5.462994e+07</td>\n",
       "      <td>1.991775e+08</td>\n",
       "    </tr>\n",
       "    <tr>\n",
       "      <th>std</th>\n",
       "      <td>2.172137</td>\n",
       "      <td>5.514540e+07</td>\n",
       "      <td>2.538156e+08</td>\n",
       "      <td>18.811369</td>\n",
       "      <td>1255.476215</td>\n",
       "      <td>0.795955</td>\n",
       "      <td>8.060503</td>\n",
       "      <td>5.525463e+07</td>\n",
       "      <td>2.968515e+08</td>\n",
       "    </tr>\n",
       "    <tr>\n",
       "      <th>min</th>\n",
       "      <td>0.010335</td>\n",
       "      <td>1.000000e+00</td>\n",
       "      <td>4.300000e+01</td>\n",
       "      <td>63.000000</td>\n",
       "      <td>10.000000</td>\n",
       "      <td>2.200000</td>\n",
       "      <td>1961.000000</td>\n",
       "      <td>9.693980e-01</td>\n",
       "      <td>4.300000e+01</td>\n",
       "    </tr>\n",
       "    <tr>\n",
       "      <th>25%</th>\n",
       "      <td>0.664783</td>\n",
       "      <td>1.400000e+07</td>\n",
       "      <td>2.565097e+07</td>\n",
       "      <td>97.000000</td>\n",
       "      <td>179.000000</td>\n",
       "      <td>5.800000</td>\n",
       "      <td>2005.000000</td>\n",
       "      <td>1.519180e+07</td>\n",
       "      <td>2.764890e+07</td>\n",
       "    </tr>\n",
       "    <tr>\n",
       "      <th>50%</th>\n",
       "      <td>1.152354</td>\n",
       "      <td>3.200000e+07</td>\n",
       "      <td>8.208716e+07</td>\n",
       "      <td>107.000000</td>\n",
       "      <td>439.000000</td>\n",
       "      <td>6.300000</td>\n",
       "      <td>2009.000000</td>\n",
       "      <td>3.556927e+07</td>\n",
       "      <td>8.674770e+07</td>\n",
       "    </tr>\n",
       "    <tr>\n",
       "      <th>75%</th>\n",
       "      <td>2.125342</td>\n",
       "      <td>7.000000e+07</td>\n",
       "      <td>2.140694e+08</td>\n",
       "      <td>121.000000</td>\n",
       "      <td>1173.000000</td>\n",
       "      <td>6.800000</td>\n",
       "      <td>2011.000000</td>\n",
       "      <td>7.630125e+07</td>\n",
       "      <td>2.351178e+08</td>\n",
       "    </tr>\n",
       "    <tr>\n",
       "      <th>max</th>\n",
       "      <td>32.985763</td>\n",
       "      <td>4.250000e+08</td>\n",
       "      <td>2.781506e+09</td>\n",
       "      <td>201.000000</td>\n",
       "      <td>9767.000000</td>\n",
       "      <td>8.300000</td>\n",
       "      <td>2015.000000</td>\n",
       "      <td>4.250000e+08</td>\n",
       "      <td>2.827124e+09</td>\n",
       "    </tr>\n",
       "  </tbody>\n",
       "</table>\n",
       "</div>"
      ],
      "text/plain": [
       "        popularity        budget       revenue      runtime   vote_count  \\\n",
       "count  1287.000000  1.287000e+03  1.287000e+03  1287.000000  1287.000000   \n",
       "mean      1.786022  5.200349e+07  1.762444e+08   110.273504   947.266511   \n",
       "std       2.172137  5.514540e+07  2.538156e+08    18.811369  1255.476215   \n",
       "min       0.010335  1.000000e+00  4.300000e+01    63.000000    10.000000   \n",
       "25%       0.664783  1.400000e+07  2.565097e+07    97.000000   179.000000   \n",
       "50%       1.152354  3.200000e+07  8.208716e+07   107.000000   439.000000   \n",
       "75%       2.125342  7.000000e+07  2.140694e+08   121.000000  1173.000000   \n",
       "max      32.985763  4.250000e+08  2.781506e+09   201.000000  9767.000000   \n",
       "\n",
       "       vote_average  release_year    budget_adj   revenue_adj  \n",
       "count   1287.000000   1287.000000  1.287000e+03  1.287000e+03  \n",
       "mean       6.279487   2007.017094  5.462994e+07  1.991775e+08  \n",
       "std        0.795955      8.060503  5.525463e+07  2.968515e+08  \n",
       "min        2.200000   1961.000000  9.693980e-01  4.300000e+01  \n",
       "25%        5.800000   2005.000000  1.519180e+07  2.764890e+07  \n",
       "50%        6.300000   2009.000000  3.556927e+07  8.674770e+07  \n",
       "75%        6.800000   2011.000000  7.630125e+07  2.351178e+08  \n",
       "max        8.300000   2015.000000  4.250000e+08  2.827124e+09  "
      ]
     },
     "execution_count": 42,
     "metadata": {},
     "output_type": "execute_result"
    }
   ],
   "source": [
    "# let check again the statical value\n",
    "df.describe()"
   ]
  },
  {
   "cell_type": "markdown",
   "metadata": {},
   "source": [
    "Voila we have now a correct value for min "
   ]
  },
  {
   "cell_type": "code",
   "execution_count": 36,
   "metadata": {
    "scrolled": true
   },
   "outputs": [
    {
     "data": {
      "text/html": [
       "<div>\n",
       "<style scoped>\n",
       "    .dataframe tbody tr th:only-of-type {\n",
       "        vertical-align: middle;\n",
       "    }\n",
       "\n",
       "    .dataframe tbody tr th {\n",
       "        vertical-align: top;\n",
       "    }\n",
       "\n",
       "    .dataframe thead th {\n",
       "        text-align: right;\n",
       "    }\n",
       "</style>\n",
       "<table border=\"1\" class=\"dataframe\">\n",
       "  <thead>\n",
       "    <tr style=\"text-align: right;\">\n",
       "      <th></th>\n",
       "      <th>popularity</th>\n",
       "      <th>budget</th>\n",
       "      <th>revenue</th>\n",
       "      <th>original_title</th>\n",
       "      <th>cast</th>\n",
       "      <th>director</th>\n",
       "      <th>runtime</th>\n",
       "      <th>genres</th>\n",
       "      <th>vote_count</th>\n",
       "      <th>vote_average</th>\n",
       "      <th>release_year</th>\n",
       "      <th>budget_adj</th>\n",
       "      <th>revenue_adj</th>\n",
       "    </tr>\n",
       "  </thead>\n",
       "  <tbody>\n",
       "    <tr>\n",
       "      <th>0</th>\n",
       "      <td>32.985763</td>\n",
       "      <td>150000000</td>\n",
       "      <td>1513528810</td>\n",
       "      <td>Jurassic World</td>\n",
       "      <td>Chris Pratt|Bryce Dallas Howard|Irrfan Khan|Vi...</td>\n",
       "      <td>Colin Trevorrow</td>\n",
       "      <td>124</td>\n",
       "      <td>Action|Adventure|Science Fiction|Thriller</td>\n",
       "      <td>5562</td>\n",
       "      <td>6.5</td>\n",
       "      <td>2015</td>\n",
       "      <td>1.379999e+08</td>\n",
       "      <td>1.392446e+09</td>\n",
       "    </tr>\n",
       "    <tr>\n",
       "      <th>1</th>\n",
       "      <td>28.419936</td>\n",
       "      <td>150000000</td>\n",
       "      <td>378436354</td>\n",
       "      <td>Mad Max: Fury Road</td>\n",
       "      <td>Tom Hardy|Charlize Theron|Hugh Keays-Byrne|Nic...</td>\n",
       "      <td>George Miller</td>\n",
       "      <td>120</td>\n",
       "      <td>Action|Adventure|Science Fiction|Thriller</td>\n",
       "      <td>6185</td>\n",
       "      <td>7.1</td>\n",
       "      <td>2015</td>\n",
       "      <td>1.379999e+08</td>\n",
       "      <td>3.481613e+08</td>\n",
       "    </tr>\n",
       "    <tr>\n",
       "      <th>2</th>\n",
       "      <td>13.112507</td>\n",
       "      <td>110000000</td>\n",
       "      <td>295238201</td>\n",
       "      <td>Insurgent</td>\n",
       "      <td>Shailene Woodley|Theo James|Kate Winslet|Ansel...</td>\n",
       "      <td>Robert Schwentke</td>\n",
       "      <td>119</td>\n",
       "      <td>Adventure|Science Fiction|Thriller</td>\n",
       "      <td>2480</td>\n",
       "      <td>6.3</td>\n",
       "      <td>2015</td>\n",
       "      <td>1.012000e+08</td>\n",
       "      <td>2.716190e+08</td>\n",
       "    </tr>\n",
       "    <tr>\n",
       "      <th>3</th>\n",
       "      <td>11.173104</td>\n",
       "      <td>200000000</td>\n",
       "      <td>2068178225</td>\n",
       "      <td>Star Wars: The Force Awakens</td>\n",
       "      <td>Harrison Ford|Mark Hamill|Carrie Fisher|Adam D...</td>\n",
       "      <td>J.J. Abrams</td>\n",
       "      <td>136</td>\n",
       "      <td>Action|Adventure|Science Fiction|Fantasy</td>\n",
       "      <td>5292</td>\n",
       "      <td>7.5</td>\n",
       "      <td>2015</td>\n",
       "      <td>1.839999e+08</td>\n",
       "      <td>1.902723e+09</td>\n",
       "    </tr>\n",
       "    <tr>\n",
       "      <th>4</th>\n",
       "      <td>9.335014</td>\n",
       "      <td>190000000</td>\n",
       "      <td>1506249360</td>\n",
       "      <td>Furious 7</td>\n",
       "      <td>Vin Diesel|Paul Walker|Jason Statham|Michelle ...</td>\n",
       "      <td>James Wan</td>\n",
       "      <td>137</td>\n",
       "      <td>Action|Crime|Thriller</td>\n",
       "      <td>2947</td>\n",
       "      <td>7.3</td>\n",
       "      <td>2015</td>\n",
       "      <td>1.747999e+08</td>\n",
       "      <td>1.385749e+09</td>\n",
       "    </tr>\n",
       "  </tbody>\n",
       "</table>\n",
       "</div>"
      ],
      "text/plain": [
       "   popularity     budget     revenue                original_title  \\\n",
       "0   32.985763  150000000  1513528810                Jurassic World   \n",
       "1   28.419936  150000000   378436354            Mad Max: Fury Road   \n",
       "2   13.112507  110000000   295238201                     Insurgent   \n",
       "3   11.173104  200000000  2068178225  Star Wars: The Force Awakens   \n",
       "4    9.335014  190000000  1506249360                     Furious 7   \n",
       "\n",
       "                                                cast          director  \\\n",
       "0  Chris Pratt|Bryce Dallas Howard|Irrfan Khan|Vi...   Colin Trevorrow   \n",
       "1  Tom Hardy|Charlize Theron|Hugh Keays-Byrne|Nic...     George Miller   \n",
       "2  Shailene Woodley|Theo James|Kate Winslet|Ansel...  Robert Schwentke   \n",
       "3  Harrison Ford|Mark Hamill|Carrie Fisher|Adam D...       J.J. Abrams   \n",
       "4  Vin Diesel|Paul Walker|Jason Statham|Michelle ...         James Wan   \n",
       "\n",
       "   runtime                                     genres  vote_count  \\\n",
       "0      124  Action|Adventure|Science Fiction|Thriller        5562   \n",
       "1      120  Action|Adventure|Science Fiction|Thriller        6185   \n",
       "2      119         Adventure|Science Fiction|Thriller        2480   \n",
       "3      136   Action|Adventure|Science Fiction|Fantasy        5292   \n",
       "4      137                      Action|Crime|Thriller        2947   \n",
       "\n",
       "   vote_average  release_year    budget_adj   revenue_adj  \n",
       "0           6.5          2015  1.379999e+08  1.392446e+09  \n",
       "1           7.1          2015  1.379999e+08  3.481613e+08  \n",
       "2           6.3          2015  1.012000e+08  2.716190e+08  \n",
       "3           7.5          2015  1.839999e+08  1.902723e+09  \n",
       "4           7.3          2015  1.747999e+08  1.385749e+09  "
      ]
     },
     "execution_count": 36,
     "metadata": {},
     "output_type": "execute_result"
    }
   ],
   "source": [
    "df.head()"
   ]
  },
  {
   "cell_type": "code",
   "execution_count": 37,
   "metadata": {
    "scrolled": true
   },
   "outputs": [
    {
     "data": {
      "text/plain": [
       "0        Chris Pratt|Bryce Dallas Howard|Irrfan Khan|Vi...\n",
       "1        Tom Hardy|Charlize Theron|Hugh Keays-Byrne|Nic...\n",
       "2        Shailene Woodley|Theo James|Kate Winslet|Ansel...\n",
       "3        Harrison Ford|Mark Hamill|Carrie Fisher|Adam D...\n",
       "4        Vin Diesel|Paul Walker|Jason Statham|Michelle ...\n",
       "                               ...                        \n",
       "10595    Roger Moore|Yaphet Kotto|Jane Seymour|Clifton ...\n",
       "10689    Sean Connery|Claudine Auger|Adolfo Celi|Lucian...\n",
       "10724    George Lazenby|Diana Rigg|Telly Savalas|Gabrie...\n",
       "10759    Donald Pleasence|Jamie Lee Curtis|P.J. Soles|N...\n",
       "10760    John Belushi|Tim Matheson|John Vernon|Verna Bl...\n",
       "Name: cast, Length: 1287, dtype: object"
      ]
     },
     "execution_count": 37,
     "metadata": {},
     "output_type": "execute_result"
    }
   ],
   "source": [
    "# let check the columns cast and genres\n",
    "df['cast']"
   ]
  },
  {
   "cell_type": "markdown",
   "metadata": {},
   "source": [
    "We can see  for cast we have string seperate with | that is not good for the visualation so we need to split it and expand it "
   ]
  },
  {
   "cell_type": "code",
   "execution_count": 38,
   "metadata": {
    "scrolled": true
   },
   "outputs": [
    {
     "data": {
      "text/plain": [
       "0        Action|Adventure|Science Fiction|Thriller\n",
       "1        Action|Adventure|Science Fiction|Thriller\n",
       "2               Adventure|Science Fiction|Thriller\n",
       "3         Action|Adventure|Science Fiction|Fantasy\n",
       "4                            Action|Crime|Thriller\n",
       "                           ...                    \n",
       "10595                    Adventure|Action|Thriller\n",
       "10689                    Adventure|Action|Thriller\n",
       "10724                    Adventure|Action|Thriller\n",
       "10759                              Horror|Thriller\n",
       "10760                                       Comedy\n",
       "Name: genres, Length: 1287, dtype: object"
      ]
     },
     "execution_count": 38,
     "metadata": {},
     "output_type": "execute_result"
    }
   ],
   "source": [
    "df['genres']"
   ]
  },
  {
   "cell_type": "markdown",
   "metadata": {},
   "source": [
    "Same this with Genres we need to split it too"
   ]
  },
  {
   "cell_type": "code",
   "execution_count": 39,
   "metadata": {},
   "outputs": [
    {
     "data": {
      "text/plain": [
       "Drama                                              76\n",
       "Comedy                                             69\n",
       "Drama|Romance                                      37\n",
       "Comedy|Romance                                     30\n",
       "Comedy|Drama|Romance                               29\n",
       "                                                   ..\n",
       "Action|Comedy|Drama                                 1\n",
       "Action|Science Fiction|Adventure|Mystery            1\n",
       "Crime|Drama|Thriller|Action                         1\n",
       "Fantasy|Action|Drama                                1\n",
       "Action|Adventure|Science Fiction|Family|Fantasy     1\n",
       "Name: genres, Length: 496, dtype: int64"
      ]
     },
     "metadata": {},
     "output_type": "display_data"
    },
    {
     "name": "stdout",
     "output_type": "stream",
     "text": [
      "!!!!!!!!!!!!!!!!!!!!!!!!!!!!!!!!!!!!!!!!!!!!!!!!!!!!!!!!!!!!!!!!!!!!!!!!!!!!!!!!\n"
     ]
    },
    {
     "data": {
      "text/plain": [
       "Jennifer Lawrence|Josh Hutcherson|Liam Hemsworth|Woody Harrelson|Elizabeth Banks    3\n",
       "Elijah Wood|Ian McKellen|Viggo Mortensen|Liv Tyler|Orlando Bloom                    3\n",
       "Mark Hamill|Harrison Ford|Carrie Fisher|Billy Dee Williams|Anthony Daniels          2\n",
       "Mike Myers|Eddie Murphy|Cameron Diaz|Julie Andrews|Antonio Banderas                 2\n",
       "Kristen Stewart|Robert Pattinson|Taylor Lautner|Ashley Greene|Peter Facinelli       2\n",
       "                                                                                   ..\n",
       "Ryan Kwanten|Donnie Wahlberg|Bob Gunton|Amber Valletta|Laura Regan                  1\n",
       "Annabelle Wallis|Alfre Woodard|Eric Ladin|Tony Amendola|Gabriel Bateman             1\n",
       "Robin Williams|Mandy Moore|John Krasinski|Eric Christian Olsen|Christine Taylor     1\n",
       "Edward Norton|Evan Rachel Wood|David Morse|Rory Culkin|Bruce Dern                   1\n",
       "James McAvoy|Michael Caine|Maggie Smith|Julie Walters|Patrick Stewart               1\n",
       "Name: cast, Length: 1278, dtype: int64"
      ]
     },
     "metadata": {},
     "output_type": "display_data"
    }
   ],
   "source": [
    "# let count number value each item has\n",
    "display(df['genres'].value_counts())\n",
    "print('!'*80)\n",
    "display(df['cast'].value_counts())"
   ]
  },
  {
   "cell_type": "code",
   "execution_count": 49,
   "metadata": {
    "scrolled": true
   },
   "outputs": [
    {
     "data": {
      "text/plain": [
       "0         Chris Pratt\n",
       "1           Tom Hardy\n",
       "2    Shailene Woodley\n",
       "3       Harrison Ford\n",
       "4          Vin Diesel\n",
       "Name: cast_1, dtype: object"
      ]
     },
     "execution_count": 49,
     "metadata": {},
     "output_type": "execute_result"
    }
   ],
   "source": [
    "# let split and expand Cast col\n",
    "df[['cast_1','cast_2','cast_3','cast_4','cast_5']]=df['cast'].str.split('|',expand=True)\n",
    "df['cast_1'].head()"
   ]
  },
  {
   "cell_type": "code",
   "execution_count": 50,
   "metadata": {},
   "outputs": [],
   "source": [
    "# We can also use a function for easy way \n",
    "# function to seperated the value of cast and genre \n",
    "# def seprate_values(col):\n",
    "#     new_cols=(df[col].str.split('|', expand=True).rename(columns=lambda x: f\"{col}_{x+1}\"))\n",
    "#     return new_cols"
   ]
  },
  {
   "cell_type": "code",
   "execution_count": 64,
   "metadata": {},
   "outputs": [
    {
     "ename": "ValueError",
     "evalue": "Columns must be same length as key",
     "output_type": "error",
     "traceback": [
      "\u001b[1;31m---------------------------------------------------------------------------\u001b[0m",
      "\u001b[1;31mValueError\u001b[0m                                Traceback (most recent call last)",
      "\u001b[1;32m<ipython-input-64-3fe6f613cbde>\u001b[0m in \u001b[0;36m<module>\u001b[1;34m\u001b[0m\n\u001b[0;32m      1\u001b[0m \u001b[1;31m# let split genres col\u001b[0m\u001b[1;33m\u001b[0m\u001b[1;33m\u001b[0m\u001b[1;33m\u001b[0m\u001b[0m\n\u001b[1;32m----> 2\u001b[1;33m \u001b[0mdf\u001b[0m\u001b[1;33m[\u001b[0m\u001b[1;33m[\u001b[0m\u001b[1;34m'genre_1'\u001b[0m\u001b[1;33m,\u001b[0m\u001b[1;34m'genre_2'\u001b[0m\u001b[1;33m,\u001b[0m\u001b[1;34m'genre_3'\u001b[0m\u001b[1;33m,\u001b[0m\u001b[1;34m'genre_4'\u001b[0m\u001b[1;33m,\u001b[0m\u001b[1;34m'genre_5'\u001b[0m\u001b[1;33m]\u001b[0m\u001b[1;33m]\u001b[0m\u001b[1;33m=\u001b[0m\u001b[0mdf\u001b[0m\u001b[1;33m[\u001b[0m\u001b[1;34m'genres'\u001b[0m\u001b[1;33m]\u001b[0m\u001b[1;33m.\u001b[0m\u001b[0mstr\u001b[0m\u001b[1;33m.\u001b[0m\u001b[0msplit\u001b[0m\u001b[1;33m(\u001b[0m\u001b[1;34m'|'\u001b[0m\u001b[1;33m,\u001b[0m\u001b[0mexpand\u001b[0m\u001b[1;33m=\u001b[0m\u001b[1;32mTrue\u001b[0m\u001b[1;33m)\u001b[0m\u001b[1;33m\u001b[0m\u001b[1;33m\u001b[0m\u001b[0m\n\u001b[0m",
      "\u001b[1;32m~\\anaconda3\\lib\\site-packages\\pandas\\core\\frame.py\u001b[0m in \u001b[0;36m__setitem__\u001b[1;34m(self, key, value)\u001b[0m\n\u001b[0;32m   3039\u001b[0m             \u001b[0mself\u001b[0m\u001b[1;33m.\u001b[0m\u001b[0m_setitem_frame\u001b[0m\u001b[1;33m(\u001b[0m\u001b[0mkey\u001b[0m\u001b[1;33m,\u001b[0m \u001b[0mvalue\u001b[0m\u001b[1;33m)\u001b[0m\u001b[1;33m\u001b[0m\u001b[1;33m\u001b[0m\u001b[0m\n\u001b[0;32m   3040\u001b[0m         \u001b[1;32melif\u001b[0m \u001b[0misinstance\u001b[0m\u001b[1;33m(\u001b[0m\u001b[0mkey\u001b[0m\u001b[1;33m,\u001b[0m \u001b[1;33m(\u001b[0m\u001b[0mSeries\u001b[0m\u001b[1;33m,\u001b[0m \u001b[0mnp\u001b[0m\u001b[1;33m.\u001b[0m\u001b[0mndarray\u001b[0m\u001b[1;33m,\u001b[0m \u001b[0mlist\u001b[0m\u001b[1;33m,\u001b[0m \u001b[0mIndex\u001b[0m\u001b[1;33m)\u001b[0m\u001b[1;33m)\u001b[0m\u001b[1;33m:\u001b[0m\u001b[1;33m\u001b[0m\u001b[1;33m\u001b[0m\u001b[0m\n\u001b[1;32m-> 3041\u001b[1;33m             \u001b[0mself\u001b[0m\u001b[1;33m.\u001b[0m\u001b[0m_setitem_array\u001b[0m\u001b[1;33m(\u001b[0m\u001b[0mkey\u001b[0m\u001b[1;33m,\u001b[0m \u001b[0mvalue\u001b[0m\u001b[1;33m)\u001b[0m\u001b[1;33m\u001b[0m\u001b[1;33m\u001b[0m\u001b[0m\n\u001b[0m\u001b[0;32m   3042\u001b[0m         \u001b[1;32melse\u001b[0m\u001b[1;33m:\u001b[0m\u001b[1;33m\u001b[0m\u001b[1;33m\u001b[0m\u001b[0m\n\u001b[0;32m   3043\u001b[0m             \u001b[1;31m# set column\u001b[0m\u001b[1;33m\u001b[0m\u001b[1;33m\u001b[0m\u001b[1;33m\u001b[0m\u001b[0m\n",
      "\u001b[1;32m~\\anaconda3\\lib\\site-packages\\pandas\\core\\frame.py\u001b[0m in \u001b[0;36m_setitem_array\u001b[1;34m(self, key, value)\u001b[0m\n\u001b[0;32m   3065\u001b[0m             \u001b[1;32mif\u001b[0m \u001b[0misinstance\u001b[0m\u001b[1;33m(\u001b[0m\u001b[0mvalue\u001b[0m\u001b[1;33m,\u001b[0m \u001b[0mDataFrame\u001b[0m\u001b[1;33m)\u001b[0m\u001b[1;33m:\u001b[0m\u001b[1;33m\u001b[0m\u001b[1;33m\u001b[0m\u001b[0m\n\u001b[0;32m   3066\u001b[0m                 \u001b[1;32mif\u001b[0m \u001b[0mlen\u001b[0m\u001b[1;33m(\u001b[0m\u001b[0mvalue\u001b[0m\u001b[1;33m.\u001b[0m\u001b[0mcolumns\u001b[0m\u001b[1;33m)\u001b[0m \u001b[1;33m!=\u001b[0m \u001b[0mlen\u001b[0m\u001b[1;33m(\u001b[0m\u001b[0mkey\u001b[0m\u001b[1;33m)\u001b[0m\u001b[1;33m:\u001b[0m\u001b[1;33m\u001b[0m\u001b[1;33m\u001b[0m\u001b[0m\n\u001b[1;32m-> 3067\u001b[1;33m                     \u001b[1;32mraise\u001b[0m \u001b[0mValueError\u001b[0m\u001b[1;33m(\u001b[0m\u001b[1;34m\"Columns must be same length as key\"\u001b[0m\u001b[1;33m)\u001b[0m\u001b[1;33m\u001b[0m\u001b[1;33m\u001b[0m\u001b[0m\n\u001b[0m\u001b[0;32m   3068\u001b[0m                 \u001b[1;32mfor\u001b[0m \u001b[0mk1\u001b[0m\u001b[1;33m,\u001b[0m \u001b[0mk2\u001b[0m \u001b[1;32min\u001b[0m \u001b[0mzip\u001b[0m\u001b[1;33m(\u001b[0m\u001b[0mkey\u001b[0m\u001b[1;33m,\u001b[0m \u001b[0mvalue\u001b[0m\u001b[1;33m.\u001b[0m\u001b[0mcolumns\u001b[0m\u001b[1;33m)\u001b[0m\u001b[1;33m:\u001b[0m\u001b[1;33m\u001b[0m\u001b[1;33m\u001b[0m\u001b[0m\n\u001b[0;32m   3069\u001b[0m                     \u001b[0mself\u001b[0m\u001b[1;33m[\u001b[0m\u001b[0mk1\u001b[0m\u001b[1;33m]\u001b[0m \u001b[1;33m=\u001b[0m \u001b[0mvalue\u001b[0m\u001b[1;33m[\u001b[0m\u001b[0mk2\u001b[0m\u001b[1;33m]\u001b[0m\u001b[1;33m\u001b[0m\u001b[1;33m\u001b[0m\u001b[0m\n",
      "\u001b[1;31mValueError\u001b[0m: Columns must be same length as key"
     ]
    }
   ],
   "source": [
    "# let split genres col\n",
    "df[['genre_1','genre_2','genre_3','genre_4','genre_5']]=df['genres'].str.split('|',expand=True)\n"
   ]
  },
  {
   "cell_type": "code",
   "execution_count": 59,
   "metadata": {},
   "outputs": [],
   "source": [
    "# let assign the columns cast_1 , genre_1 to 'genres' , 'cast'\n",
    "df['cast']=df['cast_1']\n",
    "df['genres']=df['genre_1']"
   ]
  },
  {
   "cell_type": "code",
   "execution_count": 60,
   "metadata": {
    "scrolled": true
   },
   "outputs": [
    {
     "data": {
      "text/plain": [
       "(1287, 23)"
      ]
     },
     "execution_count": 60,
     "metadata": {},
     "output_type": "execute_result"
    }
   ],
   "source": [
    "df.shape"
   ]
  },
  {
   "cell_type": "code",
   "execution_count": 62,
   "metadata": {},
   "outputs": [],
   "source": [
    "# let drop some cols since ze have applied cast_1 to cast and genre_1 to genres\n",
    "df.drop(columns=['cast_1','cast_2','cast_3','cast_4','cast_5','genre_1','genre_2','genre_3','genre_4','genre_5'],inplace=True)"
   ]
  },
  {
   "cell_type": "code",
   "execution_count": 63,
   "metadata": {},
   "outputs": [
    {
     "data": {
      "text/plain": [
       "(1287, 13)"
      ]
     },
     "execution_count": 63,
     "metadata": {},
     "output_type": "execute_result"
    }
   ],
   "source": [
    "df.shape"
   ]
  },
  {
   "cell_type": "code",
   "execution_count": 65,
   "metadata": {},
   "outputs": [
    {
     "data": {
      "text/plain": [
       "Nicolas Cage      13\n",
       "Tom Hanks         13\n",
       "Matt Damon        13\n",
       "Mark Wahlberg     13\n",
       "Tom Cruise        12\n",
       "Johnny Depp       11\n",
       "George Clooney    11\n",
       "Vin Diesel        10\n",
       "Steve Carell      10\n",
       "Ben Affleck       10\n",
       "Name: cast, dtype: int64"
      ]
     },
     "metadata": {},
     "output_type": "display_data"
    },
    {
     "name": "stdout",
     "output_type": "stream",
     "text": [
      "!!!!!!!!!!!!!!!!!!!!!!!!!!!!!!!!!!!!!!!!!!!!!!!!!!!!!!!!!!!!!!!!!!!!!!!!!!!!!!!!!!!!!!!!!!!!!!!!!!!!!!!!!!!!!!!!!!!!!!!!\n"
     ]
    },
    {
     "data": {
      "text/plain": [
       "Drama              274\n",
       "Action             238\n",
       "Comedy             230\n",
       "Adventure          130\n",
       "Horror              78\n",
       "Thriller            58\n",
       "Animation           55\n",
       "Crime               52\n",
       "Fantasy             44\n",
       "Science Fiction     38\n",
       "Name: genres, dtype: int64"
      ]
     },
     "metadata": {},
     "output_type": "display_data"
    }
   ],
   "source": [
    "# let Display \n",
    "display(df['cast'].value_counts().nlargest(10))\n",
    "print('!!'*60)\n",
    "display(df['genres'].value_counts().nlargest(10))\n"
   ]
  },
  {
   "cell_type": "code",
   "execution_count": 66,
   "metadata": {
    "scrolled": false
   },
   "outputs": [
    {
     "name": "stdout",
     "output_type": "stream",
     "text": [
      "<class 'pandas.core.frame.DataFrame'>\n",
      "Int64Index: 1287 entries, 0 to 10760\n",
      "Data columns (total 13 columns):\n",
      " #   Column          Non-Null Count  Dtype  \n",
      "---  ------          --------------  -----  \n",
      " 0   popularity      1287 non-null   float64\n",
      " 1   budget          1287 non-null   int64  \n",
      " 2   revenue         1287 non-null   int64  \n",
      " 3   original_title  1287 non-null   object \n",
      " 4   cast            1287 non-null   object \n",
      " 5   director        1287 non-null   object \n",
      " 6   runtime         1287 non-null   int64  \n",
      " 7   genres          1287 non-null   object \n",
      " 8   vote_count      1287 non-null   int64  \n",
      " 9   vote_average    1287 non-null   float64\n",
      " 10  release_year    1287 non-null   int64  \n",
      " 11  budget_adj      1287 non-null   float64\n",
      " 12  revenue_adj     1287 non-null   float64\n",
      "dtypes: float64(4), int64(5), object(4)\n",
      "memory usage: 140.8+ KB\n"
     ]
    }
   ],
   "source": [
    "df.info()"
   ]
  },
  {
   "cell_type": "markdown",
   "metadata": {},
   "source": []
  },
  {
   "cell_type": "code",
   "execution_count": 71,
   "metadata": {
    "scrolled": false
   },
   "outputs": [
    {
     "data": {
      "text/html": [
       "<div>\n",
       "<style scoped>\n",
       "    .dataframe tbody tr th:only-of-type {\n",
       "        vertical-align: middle;\n",
       "    }\n",
       "\n",
       "    .dataframe tbody tr th {\n",
       "        vertical-align: top;\n",
       "    }\n",
       "\n",
       "    .dataframe thead th {\n",
       "        text-align: right;\n",
       "    }\n",
       "</style>\n",
       "<table border=\"1\" class=\"dataframe\">\n",
       "  <thead>\n",
       "    <tr style=\"text-align: right;\">\n",
       "      <th></th>\n",
       "      <th>popularity</th>\n",
       "      <th>budget</th>\n",
       "      <th>revenue</th>\n",
       "      <th>original_title</th>\n",
       "      <th>cast</th>\n",
       "      <th>director</th>\n",
       "      <th>runtime</th>\n",
       "      <th>genres</th>\n",
       "      <th>vote_count</th>\n",
       "      <th>vote_average</th>\n",
       "      <th>release_year</th>\n",
       "      <th>budget_adj</th>\n",
       "      <th>revenue_adj</th>\n",
       "      <th>year_decade</th>\n",
       "    </tr>\n",
       "  </thead>\n",
       "  <tbody>\n",
       "    <tr>\n",
       "      <th>0</th>\n",
       "      <td>32.985763</td>\n",
       "      <td>150000000</td>\n",
       "      <td>1513528810</td>\n",
       "      <td>Jurassic World</td>\n",
       "      <td>Chris Pratt</td>\n",
       "      <td>Colin Trevorrow</td>\n",
       "      <td>124</td>\n",
       "      <td>Action</td>\n",
       "      <td>5562</td>\n",
       "      <td>6.5</td>\n",
       "      <td>2015</td>\n",
       "      <td>1.379999e+08</td>\n",
       "      <td>1.392446e+09</td>\n",
       "      <td>2010s</td>\n",
       "    </tr>\n",
       "    <tr>\n",
       "      <th>1</th>\n",
       "      <td>28.419936</td>\n",
       "      <td>150000000</td>\n",
       "      <td>378436354</td>\n",
       "      <td>Mad Max: Fury Road</td>\n",
       "      <td>Tom Hardy</td>\n",
       "      <td>George Miller</td>\n",
       "      <td>120</td>\n",
       "      <td>Action</td>\n",
       "      <td>6185</td>\n",
       "      <td>7.1</td>\n",
       "      <td>2015</td>\n",
       "      <td>1.379999e+08</td>\n",
       "      <td>3.481613e+08</td>\n",
       "      <td>2010s</td>\n",
       "    </tr>\n",
       "    <tr>\n",
       "      <th>2</th>\n",
       "      <td>13.112507</td>\n",
       "      <td>110000000</td>\n",
       "      <td>295238201</td>\n",
       "      <td>Insurgent</td>\n",
       "      <td>Shailene Woodley</td>\n",
       "      <td>Robert Schwentke</td>\n",
       "      <td>119</td>\n",
       "      <td>Adventure</td>\n",
       "      <td>2480</td>\n",
       "      <td>6.3</td>\n",
       "      <td>2015</td>\n",
       "      <td>1.012000e+08</td>\n",
       "      <td>2.716190e+08</td>\n",
       "      <td>2010s</td>\n",
       "    </tr>\n",
       "    <tr>\n",
       "      <th>3</th>\n",
       "      <td>11.173104</td>\n",
       "      <td>200000000</td>\n",
       "      <td>2068178225</td>\n",
       "      <td>Star Wars: The Force Awakens</td>\n",
       "      <td>Harrison Ford</td>\n",
       "      <td>J.J. Abrams</td>\n",
       "      <td>136</td>\n",
       "      <td>Action</td>\n",
       "      <td>5292</td>\n",
       "      <td>7.5</td>\n",
       "      <td>2015</td>\n",
       "      <td>1.839999e+08</td>\n",
       "      <td>1.902723e+09</td>\n",
       "      <td>2010s</td>\n",
       "    </tr>\n",
       "    <tr>\n",
       "      <th>4</th>\n",
       "      <td>9.335014</td>\n",
       "      <td>190000000</td>\n",
       "      <td>1506249360</td>\n",
       "      <td>Furious 7</td>\n",
       "      <td>Vin Diesel</td>\n",
       "      <td>James Wan</td>\n",
       "      <td>137</td>\n",
       "      <td>Action</td>\n",
       "      <td>2947</td>\n",
       "      <td>7.3</td>\n",
       "      <td>2015</td>\n",
       "      <td>1.747999e+08</td>\n",
       "      <td>1.385749e+09</td>\n",
       "      <td>2010s</td>\n",
       "    </tr>\n",
       "  </tbody>\n",
       "</table>\n",
       "</div>"
      ],
      "text/plain": [
       "   popularity     budget     revenue                original_title  \\\n",
       "0   32.985763  150000000  1513528810                Jurassic World   \n",
       "1   28.419936  150000000   378436354            Mad Max: Fury Road   \n",
       "2   13.112507  110000000   295238201                     Insurgent   \n",
       "3   11.173104  200000000  2068178225  Star Wars: The Force Awakens   \n",
       "4    9.335014  190000000  1506249360                     Furious 7   \n",
       "\n",
       "               cast          director  runtime     genres  vote_count  \\\n",
       "0       Chris Pratt   Colin Trevorrow      124     Action        5562   \n",
       "1         Tom Hardy     George Miller      120     Action        6185   \n",
       "2  Shailene Woodley  Robert Schwentke      119  Adventure        2480   \n",
       "3     Harrison Ford       J.J. Abrams      136     Action        5292   \n",
       "4        Vin Diesel         James Wan      137     Action        2947   \n",
       "\n",
       "   vote_average  release_year    budget_adj   revenue_adj year_decade  \n",
       "0           6.5          2015  1.379999e+08  1.392446e+09       2010s  \n",
       "1           7.1          2015  1.379999e+08  3.481613e+08       2010s  \n",
       "2           6.3          2015  1.012000e+08  2.716190e+08       2010s  \n",
       "3           7.5          2015  1.839999e+08  1.902723e+09       2010s  \n",
       "4           7.3          2015  1.747999e+08  1.385749e+09       2010s  "
      ]
     },
     "execution_count": 71,
     "metadata": {},
     "output_type": "execute_result"
    }
   ],
   "source": [
    "\n",
    "bins_edges=[1960,1970,1980,1990,2000,2010,2015]\n",
    "bins_names=['1960s','1970s','1980s','1990s','2000s','2010s']\n",
    "\n",
    "df['year_decade']= pd.cut(x=df['release_year'], bins=[1960,1970,1980,1990,2000,2010,2015], labels=bins_names)\n",
    "\n",
    "df.head()\n"
   ]
  },
  {
   "cell_type": "code",
   "execution_count": 72,
   "metadata": {},
   "outputs": [],
   "source": [
    "df['release_year']=df['year_decade']"
   ]
  },
  {
   "cell_type": "code",
   "execution_count": 73,
   "metadata": {
    "scrolled": true
   },
   "outputs": [
    {
     "data": {
      "text/plain": [
       "2000s    656\n",
       "2010s    472\n",
       "1990s     95\n",
       "1980s     35\n",
       "1970s     21\n",
       "1960s      8\n",
       "Name: release_year, dtype: int64"
      ]
     },
     "execution_count": 73,
     "metadata": {},
     "output_type": "execute_result"
    }
   ],
   "source": [
    "df.release_year.value_counts()"
   ]
  },
  {
   "cell_type": "code",
   "execution_count": 74,
   "metadata": {},
   "outputs": [],
   "source": [
    "df.drop(\"year_decade\",axis=1,inplace=True)"
   ]
  },
  {
   "cell_type": "code",
   "execution_count": 75,
   "metadata": {},
   "outputs": [
    {
     "data": {
      "text/plain": [
       "0           Action\n",
       "1           Action\n",
       "2        Adventure\n",
       "3           Action\n",
       "4           Action\n",
       "           ...    \n",
       "10595    Adventure\n",
       "10689    Adventure\n",
       "10724    Adventure\n",
       "10759       Horror\n",
       "10760       Comedy\n",
       "Name: genres, Length: 1287, dtype: object"
      ]
     },
     "execution_count": 75,
     "metadata": {},
     "output_type": "execute_result"
    }
   ],
   "source": [
    "df.genres"
   ]
  },
  {
   "cell_type": "code",
   "execution_count": 95,
   "metadata": {},
   "outputs": [],
   "source": [
    "# # function to seperated the value of cast and genre \n",
    "# def seprate_values(col):\n",
    "#     new_cols=(df[col].str.split('|', expand=True).rename(columns=lambda x: f\"{col}_{x+1}\"))\n",
    "#     return new_cols"
   ]
  },
  {
   "cell_type": "code",
   "execution_count": 76,
   "metadata": {
    "scrolled": true
   },
   "outputs": [],
   "source": [
    "# df_genre = seprate_values('genres')\n",
    "# df_genre"
   ]
  },
  {
   "cell_type": "code",
   "execution_count": 77,
   "metadata": {
    "scrolled": true
   },
   "outputs": [],
   "source": [
    "# df_cast = seprate_values('cast')\n",
    "# df_cast"
   ]
  },
  {
   "cell_type": "code",
   "execution_count": 78,
   "metadata": {
    "scrolled": true
   },
   "outputs": [],
   "source": [
    "# df['cast'],df['genres']=df_cast['cast_1'],df_genre['genres_1']\n"
   ]
  },
  {
   "cell_type": "code",
   "execution_count": null,
   "metadata": {},
   "outputs": [],
   "source": [
    "\n",
    "\n"
   ]
  },
  {
   "cell_type": "markdown",
   "metadata": {
    "id": "CdYdJ3X3vfMb"
   },
   "source": [
    "<a id='eda'></a>\n",
    "## Exploratory Data Analysis\n",
    "\n",
    "> **Tip**: Now that you've trimmed and cleaned your data, you're ready to move on to exploration. **Compute statistics** and **create visualizations** with the goal of addressing the research questions that you posed in the Introduction section. You should compute the relevant statistics throughout the analysis when an inference is made about the data. Note that at least two or more kinds of plots should be created as part of the exploration, and you must  compare and show trends in the varied visualizations. \n",
    "\n",
    "\n",
    "\n",
    "> **Tip**: - Investigate the stated question(s) from multiple angles. It is recommended that you be systematic with your approach. Look at one variable at a time, and then follow it up by looking at relationships between variables. You should explore at least three variables in relation to the primary question. This can be an exploratory relationship between three variables of interest, or looking at how two independent variables relate to a single dependent variable of interest. Lastly, you  should perform both single-variable (1d) and multiple-variable (2d) explorations.\n",
    "\n",
    "\n",
    "### Research Question 1 "
   ]
  },
  {
   "cell_type": "code",
   "execution_count": 79,
   "metadata": {
    "id": "clmtJLvovfMb",
    "scrolled": true
   },
   "outputs": [
    {
     "data": {
      "text/html": [
       "<div>\n",
       "<style scoped>\n",
       "    .dataframe tbody tr th:only-of-type {\n",
       "        vertical-align: middle;\n",
       "    }\n",
       "\n",
       "    .dataframe tbody tr th {\n",
       "        vertical-align: top;\n",
       "    }\n",
       "\n",
       "    .dataframe thead th {\n",
       "        text-align: right;\n",
       "    }\n",
       "</style>\n",
       "<table border=\"1\" class=\"dataframe\">\n",
       "  <thead>\n",
       "    <tr style=\"text-align: right;\">\n",
       "      <th>genres</th>\n",
       "      <th>Action</th>\n",
       "      <th>Adventure</th>\n",
       "      <th>Animation</th>\n",
       "      <th>Comedy</th>\n",
       "      <th>Crime</th>\n",
       "      <th>Documentary</th>\n",
       "      <th>Drama</th>\n",
       "      <th>Family</th>\n",
       "      <th>Fantasy</th>\n",
       "      <th>History</th>\n",
       "      <th>Horror</th>\n",
       "      <th>Music</th>\n",
       "      <th>Mystery</th>\n",
       "      <th>Romance</th>\n",
       "      <th>Science Fiction</th>\n",
       "      <th>Thriller</th>\n",
       "      <th>War</th>\n",
       "      <th>Western</th>\n",
       "    </tr>\n",
       "    <tr>\n",
       "      <th>release_year</th>\n",
       "      <th></th>\n",
       "      <th></th>\n",
       "      <th></th>\n",
       "      <th></th>\n",
       "      <th></th>\n",
       "      <th></th>\n",
       "      <th></th>\n",
       "      <th></th>\n",
       "      <th></th>\n",
       "      <th></th>\n",
       "      <th></th>\n",
       "      <th></th>\n",
       "      <th></th>\n",
       "      <th></th>\n",
       "      <th></th>\n",
       "      <th></th>\n",
       "      <th></th>\n",
       "      <th></th>\n",
       "    </tr>\n",
       "  </thead>\n",
       "  <tbody>\n",
       "    <tr>\n",
       "      <th>1960s</th>\n",
       "      <td>2</td>\n",
       "      <td>4</td>\n",
       "      <td>0</td>\n",
       "      <td>2</td>\n",
       "      <td>0</td>\n",
       "      <td>0</td>\n",
       "      <td>0</td>\n",
       "      <td>0</td>\n",
       "      <td>0</td>\n",
       "      <td>0</td>\n",
       "      <td>0</td>\n",
       "      <td>0</td>\n",
       "      <td>0</td>\n",
       "      <td>0</td>\n",
       "      <td>0</td>\n",
       "      <td>0</td>\n",
       "      <td>0</td>\n",
       "      <td>0</td>\n",
       "    </tr>\n",
       "    <tr>\n",
       "      <th>1970s</th>\n",
       "      <td>2</td>\n",
       "      <td>7</td>\n",
       "      <td>0</td>\n",
       "      <td>2</td>\n",
       "      <td>0</td>\n",
       "      <td>0</td>\n",
       "      <td>5</td>\n",
       "      <td>0</td>\n",
       "      <td>0</td>\n",
       "      <td>0</td>\n",
       "      <td>5</td>\n",
       "      <td>0</td>\n",
       "      <td>0</td>\n",
       "      <td>0</td>\n",
       "      <td>0</td>\n",
       "      <td>0</td>\n",
       "      <td>0</td>\n",
       "      <td>0</td>\n",
       "    </tr>\n",
       "    <tr>\n",
       "      <th>1980s</th>\n",
       "      <td>7</td>\n",
       "      <td>16</td>\n",
       "      <td>0</td>\n",
       "      <td>2</td>\n",
       "      <td>0</td>\n",
       "      <td>0</td>\n",
       "      <td>2</td>\n",
       "      <td>0</td>\n",
       "      <td>1</td>\n",
       "      <td>0</td>\n",
       "      <td>3</td>\n",
       "      <td>0</td>\n",
       "      <td>0</td>\n",
       "      <td>0</td>\n",
       "      <td>3</td>\n",
       "      <td>1</td>\n",
       "      <td>0</td>\n",
       "      <td>0</td>\n",
       "    </tr>\n",
       "    <tr>\n",
       "      <th>1990s</th>\n",
       "      <td>17</td>\n",
       "      <td>9</td>\n",
       "      <td>4</td>\n",
       "      <td>13</td>\n",
       "      <td>4</td>\n",
       "      <td>0</td>\n",
       "      <td>23</td>\n",
       "      <td>3</td>\n",
       "      <td>4</td>\n",
       "      <td>1</td>\n",
       "      <td>3</td>\n",
       "      <td>0</td>\n",
       "      <td>2</td>\n",
       "      <td>4</td>\n",
       "      <td>3</td>\n",
       "      <td>5</td>\n",
       "      <td>0</td>\n",
       "      <td>0</td>\n",
       "    </tr>\n",
       "    <tr>\n",
       "      <th>2000s</th>\n",
       "      <td>110</td>\n",
       "      <td>56</td>\n",
       "      <td>28</td>\n",
       "      <td>144</td>\n",
       "      <td>22</td>\n",
       "      <td>10</td>\n",
       "      <td>150</td>\n",
       "      <td>8</td>\n",
       "      <td>25</td>\n",
       "      <td>3</td>\n",
       "      <td>41</td>\n",
       "      <td>2</td>\n",
       "      <td>4</td>\n",
       "      <td>13</td>\n",
       "      <td>15</td>\n",
       "      <td>21</td>\n",
       "      <td>2</td>\n",
       "      <td>2</td>\n",
       "    </tr>\n",
       "    <tr>\n",
       "      <th>2010s</th>\n",
       "      <td>100</td>\n",
       "      <td>38</td>\n",
       "      <td>23</td>\n",
       "      <td>67</td>\n",
       "      <td>26</td>\n",
       "      <td>4</td>\n",
       "      <td>94</td>\n",
       "      <td>8</td>\n",
       "      <td>14</td>\n",
       "      <td>2</td>\n",
       "      <td>26</td>\n",
       "      <td>1</td>\n",
       "      <td>5</td>\n",
       "      <td>9</td>\n",
       "      <td>17</td>\n",
       "      <td>31</td>\n",
       "      <td>6</td>\n",
       "      <td>1</td>\n",
       "    </tr>\n",
       "  </tbody>\n",
       "</table>\n",
       "</div>"
      ],
      "text/plain": [
       "genres        Action  Adventure  Animation  Comedy  Crime  Documentary  Drama  \\\n",
       "release_year                                                                    \n",
       "1960s              2          4          0       2      0            0      0   \n",
       "1970s              2          7          0       2      0            0      5   \n",
       "1980s              7         16          0       2      0            0      2   \n",
       "1990s             17          9          4      13      4            0     23   \n",
       "2000s            110         56         28     144     22           10    150   \n",
       "2010s            100         38         23      67     26            4     94   \n",
       "\n",
       "genres        Family  Fantasy  History  Horror  Music  Mystery  Romance  \\\n",
       "release_year                                                              \n",
       "1960s              0        0        0       0      0        0        0   \n",
       "1970s              0        0        0       5      0        0        0   \n",
       "1980s              0        1        0       3      0        0        0   \n",
       "1990s              3        4        1       3      0        2        4   \n",
       "2000s              8       25        3      41      2        4       13   \n",
       "2010s              8       14        2      26      1        5        9   \n",
       "\n",
       "genres        Science Fiction  Thriller  War  Western  \n",
       "release_year                                           \n",
       "1960s                       0         0    0        0  \n",
       "1970s                       0         0    0        0  \n",
       "1980s                       3         1    0        0  \n",
       "1990s                       3         5    0        0  \n",
       "2000s                      15        21    2        2  \n",
       "2010s                      17        31    6        1  "
      ]
     },
     "execution_count": 79,
     "metadata": {},
     "output_type": "execute_result"
    }
   ],
   "source": [
    "# Use this, and more code cells, to explore your data. Don't forget to add\n",
    "#   Markdown cells to document your observations and findings.\n",
    "df.groupby([\"release_year\",\"genres\"])['popularity'].size().unstack()"
   ]
  },
  {
   "cell_type": "code",
   "execution_count": 80,
   "metadata": {},
   "outputs": [
    {
     "data": {
      "image/png": "[encoded data removed]",
      "text/plain": [
       "<Figure size 1008x720 with 1 Axes>"
      ]
     },
     "metadata": {
      "needs_background": "light"
     },
     "output_type": "display_data"
    }
   ],
   "source": [
    "fig, ax = plt.subplots(figsize=(14,10))\n",
    "df.groupby([\"release_year\",\"genres\"])['popularity'].size().unstack().plot(kind='bar',ax=ax,width=-.9,align='edge');\n",
    "ax.set_ylabel('popularity');"
   ]
  },
  {
   "cell_type": "markdown",
   "metadata": {
    "id": "BOGL2VXXvfMc"
   },
   "source": [
    "### Research Question 2  (Which Genres have The Highest average Revenue over Decades?)"
   ]
  },
  {
   "cell_type": "code",
   "execution_count": 81,
   "metadata": {
    "id": "rO211tBNvfMd",
    "scrolled": true
   },
   "outputs": [
    {
     "data": {
      "text/html": [
       "<div>\n",
       "<style scoped>\n",
       "    .dataframe tbody tr th:only-of-type {\n",
       "        vertical-align: middle;\n",
       "    }\n",
       "\n",
       "    .dataframe tbody tr th {\n",
       "        vertical-align: top;\n",
       "    }\n",
       "\n",
       "    .dataframe thead th {\n",
       "        text-align: right;\n",
       "    }\n",
       "</style>\n",
       "<table border=\"1\" class=\"dataframe\">\n",
       "  <thead>\n",
       "    <tr style=\"text-align: right;\">\n",
       "      <th>genres</th>\n",
       "      <th>Action</th>\n",
       "      <th>Adventure</th>\n",
       "      <th>Animation</th>\n",
       "      <th>Comedy</th>\n",
       "      <th>Crime</th>\n",
       "      <th>Documentary</th>\n",
       "      <th>Drama</th>\n",
       "      <th>Family</th>\n",
       "      <th>Fantasy</th>\n",
       "      <th>History</th>\n",
       "      <th>Horror</th>\n",
       "      <th>Music</th>\n",
       "      <th>Mystery</th>\n",
       "      <th>Romance</th>\n",
       "      <th>Science Fiction</th>\n",
       "      <th>Thriller</th>\n",
       "      <th>War</th>\n",
       "      <th>Western</th>\n",
       "    </tr>\n",
       "    <tr>\n",
       "      <th>release_year</th>\n",
       "      <th></th>\n",
       "      <th></th>\n",
       "      <th></th>\n",
       "      <th></th>\n",
       "      <th></th>\n",
       "      <th></th>\n",
       "      <th></th>\n",
       "      <th></th>\n",
       "      <th></th>\n",
       "      <th></th>\n",
       "      <th></th>\n",
       "      <th></th>\n",
       "      <th></th>\n",
       "      <th></th>\n",
       "      <th></th>\n",
       "      <th></th>\n",
       "      <th></th>\n",
       "      <th></th>\n",
       "    </tr>\n",
       "  </thead>\n",
       "  <tbody>\n",
       "    <tr>\n",
       "      <th>1960s</th>\n",
       "      <td>6.455884e+08</td>\n",
       "      <td>6.930339e+08</td>\n",
       "      <td>NaN</td>\n",
       "      <td>1.810679e+07</td>\n",
       "      <td>NaN</td>\n",
       "      <td>NaN</td>\n",
       "      <td>NaN</td>\n",
       "      <td>NaN</td>\n",
       "      <td>NaN</td>\n",
       "      <td>NaN</td>\n",
       "      <td>NaN</td>\n",
       "      <td>NaN</td>\n",
       "      <td>NaN</td>\n",
       "      <td>NaN</td>\n",
       "      <td>NaN</td>\n",
       "      <td>NaN</td>\n",
       "      <td>NaN</td>\n",
       "      <td>NaN</td>\n",
       "    </tr>\n",
       "    <tr>\n",
       "      <th>1970s</th>\n",
       "      <td>4.127977e+08</td>\n",
       "      <td>9.646533e+08</td>\n",
       "      <td>NaN</td>\n",
       "      <td>4.643701e+08</td>\n",
       "      <td>NaN</td>\n",
       "      <td>NaN</td>\n",
       "      <td>7.732088e+08</td>\n",
       "      <td>NaN</td>\n",
       "      <td>NaN</td>\n",
       "      <td>NaN</td>\n",
       "      <td>5.097712e+08</td>\n",
       "      <td>NaN</td>\n",
       "      <td>NaN</td>\n",
       "      <td>NaN</td>\n",
       "      <td>NaN</td>\n",
       "      <td>NaN</td>\n",
       "      <td>NaN</td>\n",
       "      <td>NaN</td>\n",
       "    </tr>\n",
       "    <tr>\n",
       "      <th>1980s</th>\n",
       "      <td>9.065979e+07</td>\n",
       "      <td>4.721432e+08</td>\n",
       "      <td>NaN</td>\n",
       "      <td>4.343464e+08</td>\n",
       "      <td>NaN</td>\n",
       "      <td>NaN</td>\n",
       "      <td>3.194221e+08</td>\n",
       "      <td>NaN</td>\n",
       "      <td>6.196634e+08</td>\n",
       "      <td>NaN</td>\n",
       "      <td>3.986553e+07</td>\n",
       "      <td>NaN</td>\n",
       "      <td>NaN</td>\n",
       "      <td>NaN</td>\n",
       "      <td>6.618831e+08</td>\n",
       "      <td>1.741984e+08</td>\n",
       "      <td>NaN</td>\n",
       "      <td>NaN</td>\n",
       "    </tr>\n",
       "    <tr>\n",
       "      <th>1990s</th>\n",
       "      <td>1.896920e+08</td>\n",
       "      <td>6.601854e+08</td>\n",
       "      <td>5.639794e+08</td>\n",
       "      <td>1.343173e+08</td>\n",
       "      <td>1.447832e+08</td>\n",
       "      <td>NaN</td>\n",
       "      <td>2.572276e+08</td>\n",
       "      <td>6.942527e+08</td>\n",
       "      <td>1.730384e+08</td>\n",
       "      <td>1.960861e+08</td>\n",
       "      <td>1.786824e+08</td>\n",
       "      <td>NaN</td>\n",
       "      <td>2.730498e+07</td>\n",
       "      <td>3.685544e+08</td>\n",
       "      <td>1.004535e+08</td>\n",
       "      <td>1.589269e+08</td>\n",
       "      <td>NaN</td>\n",
       "      <td>NaN</td>\n",
       "    </tr>\n",
       "    <tr>\n",
       "      <th>2000s</th>\n",
       "      <td>1.860770e+08</td>\n",
       "      <td>4.464922e+08</td>\n",
       "      <td>3.881480e+08</td>\n",
       "      <td>1.064945e+08</td>\n",
       "      <td>7.311983e+07</td>\n",
       "      <td>2.447836e+07</td>\n",
       "      <td>9.768604e+07</td>\n",
       "      <td>2.795444e+08</td>\n",
       "      <td>3.022301e+08</td>\n",
       "      <td>1.013229e+08</td>\n",
       "      <td>8.172580e+07</td>\n",
       "      <td>3.796679e+07</td>\n",
       "      <td>4.932263e+07</td>\n",
       "      <td>1.068541e+08</td>\n",
       "      <td>2.057858e+08</td>\n",
       "      <td>1.797027e+08</td>\n",
       "      <td>1.353780e+07</td>\n",
       "      <td>9.682007e+07</td>\n",
       "    </tr>\n",
       "    <tr>\n",
       "      <th>2010s</th>\n",
       "      <td>3.108455e+08</td>\n",
       "      <td>3.478543e+08</td>\n",
       "      <td>3.425381e+08</td>\n",
       "      <td>8.878601e+07</td>\n",
       "      <td>9.550094e+07</td>\n",
       "      <td>3.522698e+07</td>\n",
       "      <td>7.542016e+07</td>\n",
       "      <td>2.666794e+08</td>\n",
       "      <td>2.630345e+08</td>\n",
       "      <td>1.632824e+08</td>\n",
       "      <td>6.864986e+07</td>\n",
       "      <td>1.458037e+08</td>\n",
       "      <td>9.309220e+07</td>\n",
       "      <td>1.007281e+08</td>\n",
       "      <td>4.027925e+08</td>\n",
       "      <td>8.286669e+07</td>\n",
       "      <td>2.268953e+08</td>\n",
       "      <td>4.903142e+08</td>\n",
       "    </tr>\n",
       "  </tbody>\n",
       "</table>\n",
       "</div>"
      ],
      "text/plain": [
       "genres              Action     Adventure     Animation        Comedy  \\\n",
       "release_year                                                           \n",
       "1960s         6.455884e+08  6.930339e+08           NaN  1.810679e+07   \n",
       "1970s         4.127977e+08  9.646533e+08           NaN  4.643701e+08   \n",
       "1980s         9.065979e+07  4.721432e+08           NaN  4.343464e+08   \n",
       "1990s         1.896920e+08  6.601854e+08  5.639794e+08  1.343173e+08   \n",
       "2000s         1.860770e+08  4.464922e+08  3.881480e+08  1.064945e+08   \n",
       "2010s         3.108455e+08  3.478543e+08  3.425381e+08  8.878601e+07   \n",
       "\n",
       "genres               Crime   Documentary         Drama        Family  \\\n",
       "release_year                                                           \n",
       "1960s                  NaN           NaN           NaN           NaN   \n",
       "1970s                  NaN           NaN  7.732088e+08           NaN   \n",
       "1980s                  NaN           NaN  3.194221e+08           NaN   \n",
       "1990s         1.447832e+08           NaN  2.572276e+08  6.942527e+08   \n",
       "2000s         7.311983e+07  2.447836e+07  9.768604e+07  2.795444e+08   \n",
       "2010s         9.550094e+07  3.522698e+07  7.542016e+07  2.666794e+08   \n",
       "\n",
       "genres             Fantasy       History        Horror         Music  \\\n",
       "release_year                                                           \n",
       "1960s                  NaN           NaN           NaN           NaN   \n",
       "1970s                  NaN           NaN  5.097712e+08           NaN   \n",
       "1980s         6.196634e+08           NaN  3.986553e+07           NaN   \n",
       "1990s         1.730384e+08  1.960861e+08  1.786824e+08           NaN   \n",
       "2000s         3.022301e+08  1.013229e+08  8.172580e+07  3.796679e+07   \n",
       "2010s         2.630345e+08  1.632824e+08  6.864986e+07  1.458037e+08   \n",
       "\n",
       "genres             Mystery       Romance  Science Fiction      Thriller  \\\n",
       "release_year                                                              \n",
       "1960s                  NaN           NaN              NaN           NaN   \n",
       "1970s                  NaN           NaN              NaN           NaN   \n",
       "1980s                  NaN           NaN     6.618831e+08  1.741984e+08   \n",
       "1990s         2.730498e+07  3.685544e+08     1.004535e+08  1.589269e+08   \n",
       "2000s         4.932263e+07  1.068541e+08     2.057858e+08  1.797027e+08   \n",
       "2010s         9.309220e+07  1.007281e+08     4.027925e+08  8.286669e+07   \n",
       "\n",
       "genres                 War       Western  \n",
       "release_year                              \n",
       "1960s                  NaN           NaN  \n",
       "1970s                  NaN           NaN  \n",
       "1980s                  NaN           NaN  \n",
       "1990s                  NaN           NaN  \n",
       "2000s         1.353780e+07  9.682007e+07  \n",
       "2010s         2.268953e+08  4.903142e+08  "
      ]
     },
     "execution_count": 81,
     "metadata": {},
     "output_type": "execute_result"
    }
   ],
   "source": [
    "# Continue to explore the data to address your additional research\n",
    "#   questions. Add more headers as needed if you have more questions to\n",
    "#   investigate.\n",
    "pd.pivot_table(df,index=\"release_year\",columns=\"genres\",values='revenue_adj',aggfunc=pd.Series.mean)"
   ]
  },
  {
   "cell_type": "code",
   "execution_count": 112,
   "metadata": {
    "scrolled": true
   },
   "outputs": [
    {
     "data": {
      "image/png": "[encoded data removed]",
      "text/plain": [
       "<Figure size 1080x576 with 1 Axes>"
      ]
     },
     "metadata": {
      "needs_background": "light"
     },
     "output_type": "display_data"
    }
   ],
   "source": [
    "\n",
    "\n",
    "fig, ax = plt.subplots(figsize=(15,8))\n",
    "pd.pivot_table(df,index=\"release_year\",columns=\"genres\",values='revenue_adj',aggfunc=pd.Series.mean).\\\n",
    "plot(kind='bar',ax=ax,width=-.9,align='edge');\n",
    "ax.set_ylabel('Revenue');\n",
    "\n"
   ]
  },
  {
   "cell_type": "markdown",
   "metadata": {},
   "source": [
    "### This question's clarified The Highest Grossing Revenue for each decade:\n",
    "\n",
    "1960s: Adventure, Animation, Action.\n",
    "\n",
    "1970s: Adventure, Music, Drama.\n",
    "\n",
    "1980s: Adventure, Romance, Fantasy.\n",
    "\n",
    "1990s: Family, Adventure, Western, Animation.\n",
    "\n",
    "2000s: Animation, Adventure, Family.\n",
    "\n",
    "2010s: Animation, science fiction, Adventure."
   ]
  },
  {
   "cell_type": "markdown",
   "metadata": {},
   "source": [
    "### Research Question 3  (Is there a Correlation between Revenue and Popularity?)"
   ]
  },
  {
   "cell_type": "code",
   "execution_count": 85,
   "metadata": {},
   "outputs": [
    {
     "data": {
      "text/html": [
       "<div>\n",
       "<style scoped>\n",
       "    .dataframe tbody tr th:only-of-type {\n",
       "        vertical-align: middle;\n",
       "    }\n",
       "\n",
       "    .dataframe tbody tr th {\n",
       "        vertical-align: top;\n",
       "    }\n",
       "\n",
       "    .dataframe thead th {\n",
       "        text-align: right;\n",
       "    }\n",
       "</style>\n",
       "<table border=\"1\" class=\"dataframe\">\n",
       "  <thead>\n",
       "    <tr style=\"text-align: right;\">\n",
       "      <th></th>\n",
       "      <th>popularity</th>\n",
       "      <th>budget</th>\n",
       "      <th>revenue</th>\n",
       "      <th>original_title</th>\n",
       "      <th>cast</th>\n",
       "      <th>director</th>\n",
       "      <th>runtime</th>\n",
       "      <th>genres</th>\n",
       "      <th>vote_count</th>\n",
       "      <th>vote_average</th>\n",
       "      <th>release_year</th>\n",
       "      <th>budget_adj</th>\n",
       "      <th>revenue_adj</th>\n",
       "    </tr>\n",
       "  </thead>\n",
       "  <tbody>\n",
       "    <tr>\n",
       "      <th>0</th>\n",
       "      <td>32.985763</td>\n",
       "      <td>150000000</td>\n",
       "      <td>1513528810</td>\n",
       "      <td>Jurassic World</td>\n",
       "      <td>Chris Pratt</td>\n",
       "      <td>Colin Trevorrow</td>\n",
       "      <td>124</td>\n",
       "      <td>Action</td>\n",
       "      <td>5562</td>\n",
       "      <td>6.5</td>\n",
       "      <td>2010s</td>\n",
       "      <td>1.379999e+08</td>\n",
       "      <td>1.392446e+09</td>\n",
       "    </tr>\n",
       "    <tr>\n",
       "      <th>1</th>\n",
       "      <td>28.419936</td>\n",
       "      <td>150000000</td>\n",
       "      <td>378436354</td>\n",
       "      <td>Mad Max: Fury Road</td>\n",
       "      <td>Tom Hardy</td>\n",
       "      <td>George Miller</td>\n",
       "      <td>120</td>\n",
       "      <td>Action</td>\n",
       "      <td>6185</td>\n",
       "      <td>7.1</td>\n",
       "      <td>2010s</td>\n",
       "      <td>1.379999e+08</td>\n",
       "      <td>3.481613e+08</td>\n",
       "    </tr>\n",
       "    <tr>\n",
       "      <th>2</th>\n",
       "      <td>13.112507</td>\n",
       "      <td>110000000</td>\n",
       "      <td>295238201</td>\n",
       "      <td>Insurgent</td>\n",
       "      <td>Shailene Woodley</td>\n",
       "      <td>Robert Schwentke</td>\n",
       "      <td>119</td>\n",
       "      <td>Adventure</td>\n",
       "      <td>2480</td>\n",
       "      <td>6.3</td>\n",
       "      <td>2010s</td>\n",
       "      <td>1.012000e+08</td>\n",
       "      <td>2.716190e+08</td>\n",
       "    </tr>\n",
       "    <tr>\n",
       "      <th>3</th>\n",
       "      <td>11.173104</td>\n",
       "      <td>200000000</td>\n",
       "      <td>2068178225</td>\n",
       "      <td>Star Wars: The Force Awakens</td>\n",
       "      <td>Harrison Ford</td>\n",
       "      <td>J.J. Abrams</td>\n",
       "      <td>136</td>\n",
       "      <td>Action</td>\n",
       "      <td>5292</td>\n",
       "      <td>7.5</td>\n",
       "      <td>2010s</td>\n",
       "      <td>1.839999e+08</td>\n",
       "      <td>1.902723e+09</td>\n",
       "    </tr>\n",
       "    <tr>\n",
       "      <th>4</th>\n",
       "      <td>9.335014</td>\n",
       "      <td>190000000</td>\n",
       "      <td>1506249360</td>\n",
       "      <td>Furious 7</td>\n",
       "      <td>Vin Diesel</td>\n",
       "      <td>James Wan</td>\n",
       "      <td>137</td>\n",
       "      <td>Action</td>\n",
       "      <td>2947</td>\n",
       "      <td>7.3</td>\n",
       "      <td>2010s</td>\n",
       "      <td>1.747999e+08</td>\n",
       "      <td>1.385749e+09</td>\n",
       "    </tr>\n",
       "  </tbody>\n",
       "</table>\n",
       "</div>"
      ],
      "text/plain": [
       "   popularity     budget     revenue                original_title  \\\n",
       "0   32.985763  150000000  1513528810                Jurassic World   \n",
       "1   28.419936  150000000   378436354            Mad Max: Fury Road   \n",
       "2   13.112507  110000000   295238201                     Insurgent   \n",
       "3   11.173104  200000000  2068178225  Star Wars: The Force Awakens   \n",
       "4    9.335014  190000000  1506249360                     Furious 7   \n",
       "\n",
       "               cast          director  runtime     genres  vote_count  \\\n",
       "0       Chris Pratt   Colin Trevorrow      124     Action        5562   \n",
       "1         Tom Hardy     George Miller      120     Action        6185   \n",
       "2  Shailene Woodley  Robert Schwentke      119  Adventure        2480   \n",
       "3     Harrison Ford       J.J. Abrams      136     Action        5292   \n",
       "4        Vin Diesel         James Wan      137     Action        2947   \n",
       "\n",
       "   vote_average release_year    budget_adj   revenue_adj  \n",
       "0           6.5        2010s  1.379999e+08  1.392446e+09  \n",
       "1           7.1        2010s  1.379999e+08  3.481613e+08  \n",
       "2           6.3        2010s  1.012000e+08  2.716190e+08  \n",
       "3           7.5        2010s  1.839999e+08  1.902723e+09  \n",
       "4           7.3        2010s  1.747999e+08  1.385749e+09  "
      ]
     },
     "execution_count": 85,
     "metadata": {},
     "output_type": "execute_result"
    }
   ],
   "source": [
    "df.head()"
   ]
  },
  {
   "cell_type": "code",
   "execution_count": 86,
   "metadata": {},
   "outputs": [
    {
     "data": {
      "text/plain": [
       "0.5947547264830623"
      ]
     },
     "execution_count": 86,
     "metadata": {},
     "output_type": "execute_result"
    }
   ],
   "source": [
    "df['popularity'].corr(df['revenue'])"
   ]
  },
  {
   "cell_type": "code",
   "execution_count": 87,
   "metadata": {},
   "outputs": [],
   "source": [
    "corr_matrix = df[df['revenue'] != 0].corr()"
   ]
  },
  {
   "cell_type": "code",
   "execution_count": 88,
   "metadata": {
    "scrolled": true
   },
   "outputs": [
    {
     "data": {
      "text/html": [
       "<div>\n",
       "<style scoped>\n",
       "    .dataframe tbody tr th:only-of-type {\n",
       "        vertical-align: middle;\n",
       "    }\n",
       "\n",
       "    .dataframe tbody tr th {\n",
       "        vertical-align: top;\n",
       "    }\n",
       "\n",
       "    .dataframe thead th {\n",
       "        text-align: right;\n",
       "    }\n",
       "</style>\n",
       "<table border=\"1\" class=\"dataframe\">\n",
       "  <thead>\n",
       "    <tr style=\"text-align: right;\">\n",
       "      <th></th>\n",
       "      <th>popularity</th>\n",
       "      <th>budget</th>\n",
       "      <th>revenue</th>\n",
       "      <th>runtime</th>\n",
       "      <th>vote_count</th>\n",
       "      <th>vote_average</th>\n",
       "      <th>budget_adj</th>\n",
       "      <th>revenue_adj</th>\n",
       "    </tr>\n",
       "  </thead>\n",
       "  <tbody>\n",
       "    <tr>\n",
       "      <th>popularity</th>\n",
       "      <td>1.000000</td>\n",
       "      <td>0.432791</td>\n",
       "      <td>0.594755</td>\n",
       "      <td>0.322390</td>\n",
       "      <td>0.744088</td>\n",
       "      <td>0.355904</td>\n",
       "      <td>0.419863</td>\n",
       "      <td>0.549299</td>\n",
       "    </tr>\n",
       "    <tr>\n",
       "      <th>budget</th>\n",
       "      <td>0.432791</td>\n",
       "      <td>1.000000</td>\n",
       "      <td>0.706888</td>\n",
       "      <td>0.337373</td>\n",
       "      <td>0.583038</td>\n",
       "      <td>0.075168</td>\n",
       "      <td>0.985112</td>\n",
       "      <td>0.566835</td>\n",
       "    </tr>\n",
       "    <tr>\n",
       "      <th>revenue</th>\n",
       "      <td>0.594755</td>\n",
       "      <td>0.706888</td>\n",
       "      <td>1.000000</td>\n",
       "      <td>0.371226</td>\n",
       "      <td>0.775374</td>\n",
       "      <td>0.296501</td>\n",
       "      <td>0.713706</td>\n",
       "      <td>0.913802</td>\n",
       "    </tr>\n",
       "    <tr>\n",
       "      <th>runtime</th>\n",
       "      <td>0.322390</td>\n",
       "      <td>0.337373</td>\n",
       "      <td>0.371226</td>\n",
       "      <td>1.000000</td>\n",
       "      <td>0.426505</td>\n",
       "      <td>0.385210</td>\n",
       "      <td>0.361985</td>\n",
       "      <td>0.371980</td>\n",
       "    </tr>\n",
       "    <tr>\n",
       "      <th>vote_count</th>\n",
       "      <td>0.744088</td>\n",
       "      <td>0.583038</td>\n",
       "      <td>0.775374</td>\n",
       "      <td>0.426505</td>\n",
       "      <td>1.000000</td>\n",
       "      <td>0.464812</td>\n",
       "      <td>0.572798</td>\n",
       "      <td>0.703183</td>\n",
       "    </tr>\n",
       "    <tr>\n",
       "      <th>vote_average</th>\n",
       "      <td>0.355904</td>\n",
       "      <td>0.075168</td>\n",
       "      <td>0.296501</td>\n",
       "      <td>0.385210</td>\n",
       "      <td>0.464812</td>\n",
       "      <td>1.000000</td>\n",
       "      <td>0.088272</td>\n",
       "      <td>0.322503</td>\n",
       "    </tr>\n",
       "    <tr>\n",
       "      <th>budget_adj</th>\n",
       "      <td>0.419863</td>\n",
       "      <td>0.985112</td>\n",
       "      <td>0.713706</td>\n",
       "      <td>0.361985</td>\n",
       "      <td>0.572798</td>\n",
       "      <td>0.088272</td>\n",
       "      <td>1.000000</td>\n",
       "      <td>0.613093</td>\n",
       "    </tr>\n",
       "    <tr>\n",
       "      <th>revenue_adj</th>\n",
       "      <td>0.549299</td>\n",
       "      <td>0.566835</td>\n",
       "      <td>0.913802</td>\n",
       "      <td>0.371980</td>\n",
       "      <td>0.703183</td>\n",
       "      <td>0.322503</td>\n",
       "      <td>0.613093</td>\n",
       "      <td>1.000000</td>\n",
       "    </tr>\n",
       "  </tbody>\n",
       "</table>\n",
       "</div>"
      ],
      "text/plain": [
       "              popularity    budget   revenue   runtime  vote_count  \\\n",
       "popularity      1.000000  0.432791  0.594755  0.322390    0.744088   \n",
       "budget          0.432791  1.000000  0.706888  0.337373    0.583038   \n",
       "revenue         0.594755  0.706888  1.000000  0.371226    0.775374   \n",
       "runtime         0.322390  0.337373  0.371226  1.000000    0.426505   \n",
       "vote_count      0.744088  0.583038  0.775374  0.426505    1.000000   \n",
       "vote_average    0.355904  0.075168  0.296501  0.385210    0.464812   \n",
       "budget_adj      0.419863  0.985112  0.713706  0.361985    0.572798   \n",
       "revenue_adj     0.549299  0.566835  0.913802  0.371980    0.703183   \n",
       "\n",
       "              vote_average  budget_adj  revenue_adj  \n",
       "popularity        0.355904    0.419863     0.549299  \n",
       "budget            0.075168    0.985112     0.566835  \n",
       "revenue           0.296501    0.713706     0.913802  \n",
       "runtime           0.385210    0.361985     0.371980  \n",
       "vote_count        0.464812    0.572798     0.703183  \n",
       "vote_average      1.000000    0.088272     0.322503  \n",
       "budget_adj        0.088272    1.000000     0.613093  \n",
       "revenue_adj       0.322503    0.613093     1.000000  "
      ]
     },
     "execution_count": 88,
     "metadata": {},
     "output_type": "execute_result"
    }
   ],
   "source": [
    "corr_matrix "
   ]
  },
  {
   "cell_type": "code",
   "execution_count": 89,
   "metadata": {
    "scrolled": true
   },
   "outputs": [
    {
     "data": {
      "text/plain": [
       "revenue         1.000000\n",
       "revenue_adj     0.913802\n",
       "vote_count      0.775374\n",
       "budget_adj      0.713706\n",
       "budget          0.706888\n",
       "popularity      0.594755\n",
       "runtime         0.371226\n",
       "vote_average    0.296501\n",
       "Name: revenue, dtype: float64"
      ]
     },
     "execution_count": 89,
     "metadata": {},
     "output_type": "execute_result"
    }
   ],
   "source": [
    "corr_matrix['revenue'].sort_values(ascending=False)"
   ]
  },
  {
   "cell_type": "code",
   "execution_count": 98,
   "metadata": {},
   "outputs": [
    {
     "data": {
      "image/png": "[encoded data removed]",
      "text/plain": [
       "<Figure size 432x288 with 1 Axes>"
      ]
     },
     "metadata": {
      "needs_background": "light"
     },
     "output_type": "display_data"
    }
   ],
   "source": [
    "df.plot(kind='scatter',x='revenue',y='popularity')\n",
    "plt.title('Relation between Revenue and Popularity', \n",
    "          fontsize = 14, \n",
    "          weight = \"bold\")\n",
    "plt.xlabel('revenue')\n",
    "plt.ylabel('popularity')\n",
    "plt.show()"
   ]
  },
  {
   "cell_type": "markdown",
   "metadata": {},
   "source": [
    "There're a positive correlation between popularity and revenue.\n",
    "\n",
    "Meaning The popularity of a movie indicates it'd return a higher revenue\n",
    "\n",
    "proper Marketing for the movie is highly recommended."
   ]
  },
  {
   "cell_type": "markdown",
   "metadata": {},
   "source": [
    "### Research Question 4  (Correlation between Budget & Revenue?)"
   ]
  },
  {
   "cell_type": "code",
   "execution_count": 99,
   "metadata": {},
   "outputs": [
    {
     "data": {
      "text/html": [
       "<div>\n",
       "<style scoped>\n",
       "    .dataframe tbody tr th:only-of-type {\n",
       "        vertical-align: middle;\n",
       "    }\n",
       "\n",
       "    .dataframe tbody tr th {\n",
       "        vertical-align: top;\n",
       "    }\n",
       "\n",
       "    .dataframe thead th {\n",
       "        text-align: right;\n",
       "    }\n",
       "</style>\n",
       "<table border=\"1\" class=\"dataframe\">\n",
       "  <thead>\n",
       "    <tr style=\"text-align: right;\">\n",
       "      <th></th>\n",
       "      <th>popularity</th>\n",
       "      <th>budget</th>\n",
       "      <th>revenue</th>\n",
       "      <th>runtime</th>\n",
       "      <th>vote_count</th>\n",
       "      <th>vote_average</th>\n",
       "      <th>budget_adj</th>\n",
       "      <th>revenue_adj</th>\n",
       "    </tr>\n",
       "  </thead>\n",
       "  <tbody>\n",
       "    <tr>\n",
       "      <th>popularity</th>\n",
       "      <td>1.000000</td>\n",
       "      <td>0.432791</td>\n",
       "      <td>0.594755</td>\n",
       "      <td>0.322390</td>\n",
       "      <td>0.744088</td>\n",
       "      <td>0.355904</td>\n",
       "      <td>0.419863</td>\n",
       "      <td>0.549299</td>\n",
       "    </tr>\n",
       "    <tr>\n",
       "      <th>budget</th>\n",
       "      <td>0.432791</td>\n",
       "      <td>1.000000</td>\n",
       "      <td>0.706888</td>\n",
       "      <td>0.337373</td>\n",
       "      <td>0.583038</td>\n",
       "      <td>0.075168</td>\n",
       "      <td>0.985112</td>\n",
       "      <td>0.566835</td>\n",
       "    </tr>\n",
       "    <tr>\n",
       "      <th>revenue</th>\n",
       "      <td>0.594755</td>\n",
       "      <td>0.706888</td>\n",
       "      <td>1.000000</td>\n",
       "      <td>0.371226</td>\n",
       "      <td>0.775374</td>\n",
       "      <td>0.296501</td>\n",
       "      <td>0.713706</td>\n",
       "      <td>0.913802</td>\n",
       "    </tr>\n",
       "    <tr>\n",
       "      <th>runtime</th>\n",
       "      <td>0.322390</td>\n",
       "      <td>0.337373</td>\n",
       "      <td>0.371226</td>\n",
       "      <td>1.000000</td>\n",
       "      <td>0.426505</td>\n",
       "      <td>0.385210</td>\n",
       "      <td>0.361985</td>\n",
       "      <td>0.371980</td>\n",
       "    </tr>\n",
       "    <tr>\n",
       "      <th>vote_count</th>\n",
       "      <td>0.744088</td>\n",
       "      <td>0.583038</td>\n",
       "      <td>0.775374</td>\n",
       "      <td>0.426505</td>\n",
       "      <td>1.000000</td>\n",
       "      <td>0.464812</td>\n",
       "      <td>0.572798</td>\n",
       "      <td>0.703183</td>\n",
       "    </tr>\n",
       "    <tr>\n",
       "      <th>vote_average</th>\n",
       "      <td>0.355904</td>\n",
       "      <td>0.075168</td>\n",
       "      <td>0.296501</td>\n",
       "      <td>0.385210</td>\n",
       "      <td>0.464812</td>\n",
       "      <td>1.000000</td>\n",
       "      <td>0.088272</td>\n",
       "      <td>0.322503</td>\n",
       "    </tr>\n",
       "    <tr>\n",
       "      <th>budget_adj</th>\n",
       "      <td>0.419863</td>\n",
       "      <td>0.985112</td>\n",
       "      <td>0.713706</td>\n",
       "      <td>0.361985</td>\n",
       "      <td>0.572798</td>\n",
       "      <td>0.088272</td>\n",
       "      <td>1.000000</td>\n",
       "      <td>0.613093</td>\n",
       "    </tr>\n",
       "    <tr>\n",
       "      <th>revenue_adj</th>\n",
       "      <td>0.549299</td>\n",
       "      <td>0.566835</td>\n",
       "      <td>0.913802</td>\n",
       "      <td>0.371980</td>\n",
       "      <td>0.703183</td>\n",
       "      <td>0.322503</td>\n",
       "      <td>0.613093</td>\n",
       "      <td>1.000000</td>\n",
       "    </tr>\n",
       "  </tbody>\n",
       "</table>\n",
       "</div>"
      ],
      "text/plain": [
       "              popularity    budget   revenue   runtime  vote_count  \\\n",
       "popularity      1.000000  0.432791  0.594755  0.322390    0.744088   \n",
       "budget          0.432791  1.000000  0.706888  0.337373    0.583038   \n",
       "revenue         0.594755  0.706888  1.000000  0.371226    0.775374   \n",
       "runtime         0.322390  0.337373  0.371226  1.000000    0.426505   \n",
       "vote_count      0.744088  0.583038  0.775374  0.426505    1.000000   \n",
       "vote_average    0.355904  0.075168  0.296501  0.385210    0.464812   \n",
       "budget_adj      0.419863  0.985112  0.713706  0.361985    0.572798   \n",
       "revenue_adj     0.549299  0.566835  0.913802  0.371980    0.703183   \n",
       "\n",
       "              vote_average  budget_adj  revenue_adj  \n",
       "popularity        0.355904    0.419863     0.549299  \n",
       "budget            0.075168    0.985112     0.566835  \n",
       "revenue           0.296501    0.713706     0.913802  \n",
       "runtime           0.385210    0.361985     0.371980  \n",
       "vote_count        0.464812    0.572798     0.703183  \n",
       "vote_average      1.000000    0.088272     0.322503  \n",
       "budget_adj        0.088272    1.000000     0.613093  \n",
       "revenue_adj       0.322503    0.613093     1.000000  "
      ]
     },
     "execution_count": 99,
     "metadata": {},
     "output_type": "execute_result"
    }
   ],
   "source": [
    "df.corr()"
   ]
  },
  {
   "cell_type": "code",
   "execution_count": 103,
   "metadata": {},
   "outputs": [
    {
     "data": {
      "image/png": "[encoded data removed]",
      "text/plain": [
       "<Figure size 432x288 with 1 Axes>"
      ]
     },
     "metadata": {
      "needs_background": "light"
     },
     "output_type": "display_data"
    }
   ],
   "source": [
    "df.plot(kind='scatter',x='budget',y='revenue')\n",
    "plt.title('Correlation between Budget and Revenue',\n",
    "         fontsize=20,\n",
    "         weight='bold')\n",
    "plt.xlabel('budget')\n",
    "plt.ylabel('revenue')\n",
    "plt.show()"
   ]
  },
  {
   "cell_type": "markdown",
   "metadata": {},
   "source": [
    "There're positive correlations between the two factors\n",
    "\n",
    "Meaning a proper budget's a vital reason for movie's success."
   ]
  },
  {
   "cell_type": "markdown",
   "metadata": {},
   "source": [
    "### Research Question 5  (Most Popular Cast members in Highest Grossing Movies)"
   ]
  },
  {
   "cell_type": "code",
   "execution_count": 104,
   "metadata": {},
   "outputs": [
    {
     "data": {
      "text/html": [
       "<div>\n",
       "<style scoped>\n",
       "    .dataframe tbody tr th:only-of-type {\n",
       "        vertical-align: middle;\n",
       "    }\n",
       "\n",
       "    .dataframe tbody tr th {\n",
       "        vertical-align: top;\n",
       "    }\n",
       "\n",
       "    .dataframe thead th {\n",
       "        text-align: right;\n",
       "    }\n",
       "</style>\n",
       "<table border=\"1\" class=\"dataframe\">\n",
       "  <thead>\n",
       "    <tr style=\"text-align: right;\">\n",
       "      <th></th>\n",
       "      <th>popularity</th>\n",
       "      <th>budget</th>\n",
       "      <th>revenue</th>\n",
       "      <th>original_title</th>\n",
       "      <th>cast</th>\n",
       "      <th>director</th>\n",
       "      <th>runtime</th>\n",
       "      <th>genres</th>\n",
       "      <th>vote_count</th>\n",
       "      <th>vote_average</th>\n",
       "      <th>release_year</th>\n",
       "      <th>budget_adj</th>\n",
       "      <th>revenue_adj</th>\n",
       "    </tr>\n",
       "  </thead>\n",
       "  <tbody>\n",
       "    <tr>\n",
       "      <th>0</th>\n",
       "      <td>32.985763</td>\n",
       "      <td>150000000</td>\n",
       "      <td>1513528810</td>\n",
       "      <td>Jurassic World</td>\n",
       "      <td>Chris Pratt</td>\n",
       "      <td>Colin Trevorrow</td>\n",
       "      <td>124</td>\n",
       "      <td>Action</td>\n",
       "      <td>5562</td>\n",
       "      <td>6.5</td>\n",
       "      <td>2010s</td>\n",
       "      <td>1.379999e+08</td>\n",
       "      <td>1.392446e+09</td>\n",
       "    </tr>\n",
       "    <tr>\n",
       "      <th>1</th>\n",
       "      <td>28.419936</td>\n",
       "      <td>150000000</td>\n",
       "      <td>378436354</td>\n",
       "      <td>Mad Max: Fury Road</td>\n",
       "      <td>Tom Hardy</td>\n",
       "      <td>George Miller</td>\n",
       "      <td>120</td>\n",
       "      <td>Action</td>\n",
       "      <td>6185</td>\n",
       "      <td>7.1</td>\n",
       "      <td>2010s</td>\n",
       "      <td>1.379999e+08</td>\n",
       "      <td>3.481613e+08</td>\n",
       "    </tr>\n",
       "    <tr>\n",
       "      <th>2</th>\n",
       "      <td>13.112507</td>\n",
       "      <td>110000000</td>\n",
       "      <td>295238201</td>\n",
       "      <td>Insurgent</td>\n",
       "      <td>Shailene Woodley</td>\n",
       "      <td>Robert Schwentke</td>\n",
       "      <td>119</td>\n",
       "      <td>Adventure</td>\n",
       "      <td>2480</td>\n",
       "      <td>6.3</td>\n",
       "      <td>2010s</td>\n",
       "      <td>1.012000e+08</td>\n",
       "      <td>2.716190e+08</td>\n",
       "    </tr>\n",
       "  </tbody>\n",
       "</table>\n",
       "</div>"
      ],
      "text/plain": [
       "   popularity     budget     revenue      original_title              cast  \\\n",
       "0   32.985763  150000000  1513528810      Jurassic World       Chris Pratt   \n",
       "1   28.419936  150000000   378436354  Mad Max: Fury Road         Tom Hardy   \n",
       "2   13.112507  110000000   295238201           Insurgent  Shailene Woodley   \n",
       "\n",
       "           director  runtime     genres  vote_count  vote_average  \\\n",
       "0   Colin Trevorrow      124     Action        5562           6.5   \n",
       "1     George Miller      120     Action        6185           7.1   \n",
       "2  Robert Schwentke      119  Adventure        2480           6.3   \n",
       "\n",
       "  release_year    budget_adj   revenue_adj  \n",
       "0        2010s  1.379999e+08  1.392446e+09  \n",
       "1        2010s  1.379999e+08  3.481613e+08  \n",
       "2        2010s  1.012000e+08  2.716190e+08  "
      ]
     },
     "execution_count": 104,
     "metadata": {},
     "output_type": "execute_result"
    }
   ],
   "source": [
    "df.head(3)"
   ]
  },
  {
   "cell_type": "code",
   "execution_count": 105,
   "metadata": {
    "scrolled": true
   },
   "outputs": [
    {
     "data": {
      "image/png": "[encoded data removed]",
      "text/plain": [
       "<Figure size 864x576 with 1 Axes>"
      ]
     },
     "metadata": {
      "needs_background": "light"
     },
     "output_type": "display_data"
    }
   ],
   "source": [
    "# Counting most frequent cast members in top 100 popular movies:\n",
    "top_100_df = df.sort_values(by='popularity', ascending=False).head(100)\n",
    "top_100_cast = pd.Series(top_100_df['cast'].str.cat(sep='|').split('|'))\n",
    "frequent_cast_in_top_100 = top_100_cast.value_counts(ascending=False).head(10)\n",
    "frequent_cast_in_top_100.plot(kind='bar', figsize=(12, 8));\n",
    "plt.xticks(rotation = 45, fontsize = 13) # rotate and format the labels for the x-axis\n",
    "plt.yticks(fontsize = 13) # format the y-axis\n",
    "plt.ylabel(\"Number of Appearences\", fontsize = 13) #add a title for the y-axis\n",
    "plt.title(\"Most Frequent Cast Members in Top 100 Popular Movies\", fontsize = 16, fontweight = \"bold\") #add and format the title for the chart\n",
    "plt.show()"
   ]
  },
  {
   "cell_type": "markdown",
   "metadata": {},
   "source": [
    "As indicated from the figure the most popular Actors appear in Multiple popular Movies\n",
    "\n",
    "Meaning only the appearance of one of them's important aspect in movie's success"
   ]
  },
  {
   "cell_type": "markdown",
   "metadata": {
    "id": "TrdEojaVvfMd"
   },
   "source": [
    "<a id='conclusions'></a>\n",
    "## Conclusions\n",
    "\n",
    "> **Tip**: Finally, summarize your findings and the results that have been performed in relation to the question(s) provided at the beginning of the analysis. Summarize the results accurately, and point out where additional research can be done or where additional information could be useful.\n",
    "\n",
    "> **Tip**: Make sure that you are clear with regards to the limitations of your exploration. You should have at least 1 limitation explained clearly. \n",
    "\n",
    "> **Tip**: If you haven't done any statistical tests, do not imply any statistical conclusions. And make sure you avoid implying causation from correlation!\n",
    "\n",
    "> **Tip**: Once you are satisfied with your work here, check over your report to make sure that it is satisfies all the areas of the rubric (found on the project submission page at the end of the lesson). You should also probably remove all of the \"Tips\" like this one so that the presentation is as polished as possible.\n",
    "\n"
   ]
  }
 ],
 "metadata": {
  "colab": {
   "name": "Investigate_a_Dataset_template.ipynb",
   "provenance": []
  },
  "kernelspec": {
   "display_name": "Python 3",
   "language": "python",
   "name": "python3"
  },
  "language_info": {
   "codemirror_mode": {
    "name": "ipython",
    "version": 3
   },
   "file_extension": ".py",
   "mimetype": "text/x-python",
   "name": "python",
   "nbconvert_exporter": "python",
   "pygments_lexer": "ipython3",
   "version": "3.8.8"
  }
 },
 "nbformat": 4,
 "nbformat_minor": 1
}
